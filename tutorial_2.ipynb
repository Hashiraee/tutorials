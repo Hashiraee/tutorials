{
  "cells": [
    {
      "cell_type": "markdown",
      "metadata": {
        "id": "view-in-github",
        "colab_type": "text"
      },
      "source": [
        "<a href=\"https://colab.research.google.com/github/Hashiraee/tutorials/blob/main/tutorial_2.ipynb\" target=\"_parent\"><img src=\"https://colab.research.google.com/assets/colab-badge.svg\" alt=\"Open In Colab\"/></a>"
      ]
    },
    {
      "cell_type": "markdown",
      "metadata": {
        "id": "7RVMaLwLcfNp"
      },
      "source": [
        "# **Some basics** (I): variables\n",
        "In Python, variables are **containers** that **hold values**, such as numbers, strings, or other types of data. Think of them as boxes in which you can store information that you may need to use later in your program.\n"
      ]
    },
    {
      "cell_type": "code",
      "execution_count": null,
      "metadata": {
        "colab": {
          "base_uri": "https://localhost:8080/"
        },
        "id": "0Cp3WaN6dEqJ",
        "outputId": "611b864d-b886-4dcd-d098-25483a1fe687"
      },
      "outputs": [
        {
          "output_type": "stream",
          "name": "stdout",
          "text": [
            "Hello, World!\n"
          ]
        }
      ],
      "source": [
        "# We can store the greeting in a variable:\n",
        "greeting = \"Hello, World!\"\n",
        "print(greeting)"
      ]
    },
    {
      "cell_type": "code",
      "execution_count": null,
      "metadata": {
        "colab": {
          "base_uri": "https://localhost:8080/"
        },
        "id": "QefsiXx2e1Qk",
        "outputId": "9324dabd-9e27-4090-d895-b1de219a767d"
      },
      "outputs": [
        {
          "output_type": "execute_result",
          "data": {
            "text/plain": [
              "86400"
            ]
          },
          "metadata": {},
          "execution_count": 3
        }
      ],
      "source": [
        "# Or, in our seconds in a day example:\n",
        "hours = 24\n",
        "minutes = 60\n",
        "seconds = 60\n",
        "\n",
        "seconds_in_a_day = hours * minutes * seconds\n",
        "seconds_in_a_day"
      ]
    },
    {
      "cell_type": "markdown",
      "metadata": {
        "id": "grN2V7QieBbs"
      },
      "source": [
        "# **Some basics** (II): if-statements\n",
        "In Python, **if statements** are used to control the flow of your program based on **certain conditions**. They allow you to execute different blocks of code depending on whether a particular condition is **true** or **false**."
      ]
    },
    {
      "cell_type": "code",
      "execution_count": null,
      "metadata": {
        "colab": {
          "base_uri": "https://localhost:8080/"
        },
        "id": "KfxacwoZeRpS",
        "outputId": "5efce52b-6639-47e9-e9d1-cd71d28c02bb"
      },
      "outputs": [
        {
          "output_type": "stream",
          "name": "stdout",
          "text": [
            "You are too young, no access\n"
          ]
        }
      ],
      "source": [
        "# Lets consider an age example:\n",
        "age = 17\n",
        "if age < 18:\n",
        "    print(\"You are too young, no access\")\n",
        "else:\n",
        "    print(\"Welcome!\")"
      ]
    },
    {
      "cell_type": "markdown",
      "metadata": {
        "id": "BYPU9bicfvAV"
      },
      "source": [
        "# **Some basics** (III): for-loops\n",
        "In Python, there are two styles of for loops: the **for loop** and the for each loop, also known as the for in loop. Both of these loops are used to iterate over a sequence of values and perform some action for each value."
      ]
    },
    {
      "cell_type": "code",
      "execution_count": null,
      "metadata": {
        "colab": {
          "base_uri": "https://localhost:8080/"
        },
        "id": "DdEG0Sw1gSgl",
        "outputId": "267ced01-de50-4719-e769-a78da6a8f2de"
      },
      "outputs": [
        {
          "output_type": "stream",
          "name": "stdout",
          "text": [
            "0\n",
            "1\n",
            "2\n",
            "3\n",
            "4\n",
            "5\n",
            "The sum is: 5\n"
          ]
        }
      ],
      "source": [
        "# Fortunately, loops can do that for us:\n",
        "for number in range(6):\n",
        "    print(number)\n",
        "\n",
        "# If you want to calculate the sum:\n",
        "sum = 0\n",
        "for number in range(6):\n",
        "    sum = sum + number\n",
        "print(f\"The sum is: {number}\")"
      ]
    },
    {
      "cell_type": "markdown",
      "metadata": {
        "id": "R62gAU_whL8y"
      },
      "source": [
        "**Foreach loop** used to to iterate over an object that is iterable, like a list."
      ]
    },
    {
      "cell_type": "code",
      "execution_count": null,
      "metadata": {
        "colab": {
          "base_uri": "https://localhost:8080/"
        },
        "id": "yMgfV5BkhT3Z",
        "outputId": "2a7ca8d5-0dc4-4332-f210-d1fd31c8f8e1"
      },
      "outputs": [
        {
          "output_type": "stream",
          "name": "stdout",
          "text": [
            "bear\n",
            "cat\n",
            "dog\n",
            "frog\n",
            "bird\n"
          ]
        }
      ],
      "source": [
        "# These are lists in Python\n",
        "animals = [\"bear\", \"cat\", \"dog\", \"frog\", \"bird\"]\n",
        "\n",
        "# Printing the animal from animals\n",
        "for animal in animals:\n",
        "    print(animal)"
      ]
    },
    {
      "cell_type": "markdown",
      "metadata": {
        "id": "KvTzOq8SiB2t"
      },
      "source": [
        "# **Some basics** (IV): functions\n",
        "In Python, a function is a **block of code** that performs a **specific task** or set of tasks. Functions are used to break down complex problems into smaller, more manageable parts and to make your code more modular and reusable."
      ]
    },
    {
      "cell_type": "code",
      "execution_count": null,
      "metadata": {
        "colab": {
          "base_uri": "https://localhost:8080/"
        },
        "id": "9aj3yieEiBeO",
        "outputId": "5f6f6945-d88f-44eb-f3a0-34a5b68304d5"
      },
      "outputs": [
        {
          "output_type": "stream",
          "name": "stdout",
          "text": [
            "Hello Anon!\n",
            "Hello Someone!\n"
          ]
        }
      ],
      "source": [
        "# Greeting a person, person here is called an argument to a function\n",
        "def greet(person):\n",
        "    print(\"Hello \" + person + \"!\")\n",
        "\n",
        "greet(\"Anon\")\n",
        "greet(\"Someone\")"
      ]
    },
    {
      "cell_type": "code",
      "execution_count": null,
      "metadata": {
        "colab": {
          "base_uri": "https://localhost:8080/"
        },
        "id": "5zwWqxkzjPCE",
        "outputId": "88b5f7f5-0ad7-42df-fe8b-dc3d5b5fe8c9"
      },
      "outputs": [
        {
          "output_type": "execute_result",
          "data": {
            "text/plain": [
              "80"
            ]
          },
          "metadata": {},
          "execution_count": 10
        }
      ],
      "source": [
        "# Multiplying two numbers:\n",
        "def multiply(a, b):\n",
        "    return a * b\n",
        "\n",
        "multiply(4, 20)"
      ]
    },
    {
      "cell_type": "markdown",
      "metadata": {
        "id": "7SKo3N3Fot9I"
      },
      "source": [
        "# **Some basics** (V): dictionaries\n",
        "In Python, a dictionary is a **data structure** that allows you to store and retrieve **key-value pairs**. \n",
        "\n",
        "It is similar to a **real-world dictionary**, where you look up **a word (the key)** to find its **definition (the value)**."
      ]
    },
    {
      "cell_type": "code",
      "execution_count": null,
      "metadata": {
        "colab": {
          "base_uri": "https://localhost:8080/"
        },
        "id": "3OuB7GQ2pAPO",
        "outputId": "f826d92a-6776-4198-9daf-3a77475596cc"
      },
      "outputs": [
        {
          "output_type": "stream",
          "name": "stdout",
          "text": [
            "Anon\n",
            "42\n"
          ]
        }
      ],
      "source": [
        "# Look at the structure of defining a dictionary, we first have the \"key\": \"value\"\n",
        "person = {\n",
        "    #\"key\": \"value\",\n",
        "    \"name\": \"Anon\",\n",
        "    \"age\": 42,\n",
        "    \"city\": \"New York\",\n",
        "}\n",
        "\n",
        "print(person[\"name\"])\n",
        "print(person[\"age\"])"
      ]
    },
    {
      "cell_type": "markdown",
      "metadata": {
        "id": "HON5ZtP1pff1"
      },
      "source": [
        "### We can also add values to the \"person\" dictionary"
      ]
    },
    {
      "cell_type": "code",
      "execution_count": null,
      "metadata": {
        "colab": {
          "base_uri": "https://localhost:8080/"
        },
        "id": "s2j72ZmvpnhC",
        "outputId": "0cd496c5-5064-4c31-d886-a68d4c215326"
      },
      "outputs": [
        {
          "output_type": "stream",
          "name": "stdout",
          "text": [
            "{'name': 'Anon', 'age': 42, 'city': 'New York', 'email': 'anon@example.com'}\n"
          ]
        }
      ],
      "source": [
        "person[\"email\"] = \"anon@example.com\"\n",
        "print(person)"
      ]
    },
    {
      "cell_type": "markdown",
      "metadata": {
        "id": "1_6xITZnEHVZ"
      },
      "source": [
        "# **Some basics** (VI): classes, methods and attributes\n",
        "Briefly, **classes define** the **structure and behavior** of objects in object-oriented programming. \n",
        "\n",
        "**Attributes** are the **characteristics or properties** of an object.\n",
        "\n",
        "**Methods** define the **actions** that **objects can perform**. \n",
        "\n",
        "Together, classes, attributes, and methods provide a powerful way to organize and encapsulate complex code."
      ]
    },
    {
      "cell_type": "code",
      "execution_count": null,
      "metadata": {
        "id": "An59VqxjE4PV"
      },
      "outputs": [],
      "source": [
        "class Car:\n",
        "    def __init__(self, color):\n",
        "        self.color = color\n",
        "        self.engine_started = False\n",
        "        \n",
        "    def start_engine(self):\n",
        "        if not self.engine_started:\n",
        "            self.engine_started = True\n",
        "            print(\"Engine started.\")\n",
        "        else:\n",
        "            print(\"Engine is already running.\")\n",
        "            \n",
        "    def change_color(self, new_color):\n",
        "        print(f\"Changing color from {self.color} to {new_color}.\")\n",
        "        self.color = new_color"
      ]
    },
    {
      "cell_type": "markdown",
      "source": [
        "**Here**, we create an `instance` of the Car `class`, or equivalently: my_car is an `object` of the Car `class`."
      ],
      "metadata": {
        "id": "mci2H8Gr6B25"
      }
    },
    {
      "cell_type": "code",
      "execution_count": null,
      "metadata": {
        "id": "Z2YEKI1DE_RF"
      },
      "outputs": [],
      "source": [
        "# my_car object, which is an instance of the Car class with its own unique color attribute.\n",
        "my_car = Car(\"red\")"
      ]
    },
    {
      "cell_type": "markdown",
      "source": [
        "When you create an `instance` or `object` of a class, you are creating a **copy of the class blueprint** with its **own set of attributes and methods**. \n",
        "\n",
        "The `instance` or `object` has access to the `attributes` and `methods` defined in the class, but it can also have its **own unique attributes and methods** that are **specific to that instance**."
      ],
      "metadata": {
        "id": "1QiSg1kN7afO"
      }
    },
    {
      "cell_type": "code",
      "execution_count": null,
      "metadata": {
        "colab": {
          "base_uri": "https://localhost:8080/",
          "height": 35
        },
        "id": "0N4oEruYFPnw",
        "outputId": "12d3a5c4-b1df-43b2-a91f-8411c538543d"
      },
      "outputs": [
        {
          "output_type": "execute_result",
          "data": {
            "text/plain": [
              "'red'"
            ],
            "application/vnd.google.colaboratory.intrinsic+json": {
              "type": "string"
            }
          },
          "metadata": {},
          "execution_count": 15
        }
      ],
      "source": [
        "# Here, we access an attribute\n",
        "my_car.color"
      ]
    },
    {
      "cell_type": "code",
      "execution_count": null,
      "metadata": {
        "colab": {
          "base_uri": "https://localhost:8080/"
        },
        "id": "qn094VB2FXCi",
        "outputId": "21f63dae-4450-446d-afc6-ef2e3ed23c13"
      },
      "outputs": [
        {
          "output_type": "stream",
          "name": "stdout",
          "text": [
            "Engine started.\n"
          ]
        }
      ],
      "source": [
        "# This is a method\n",
        "my_car.start_engine()"
      ]
    },
    {
      "cell_type": "code",
      "execution_count": null,
      "metadata": {
        "colab": {
          "base_uri": "https://localhost:8080/",
          "height": 52
        },
        "id": "XK1D91owFhq5",
        "outputId": "2d197daa-4b03-47e2-9d0b-fce217401039"
      },
      "outputs": [
        {
          "output_type": "stream",
          "name": "stdout",
          "text": [
            "Changing color from red to blue.\n"
          ]
        },
        {
          "output_type": "execute_result",
          "data": {
            "text/plain": [
              "'blue'"
            ],
            "application/vnd.google.colaboratory.intrinsic+json": {
              "type": "string"
            }
          },
          "metadata": {},
          "execution_count": 17
        }
      ],
      "source": [
        "# Here, we use a METHOD 'change_color' to modify the ATTRIBUTE 'color'\n",
        "my_car.change_color(\"blue\")\n",
        "my_car.color"
      ]
    },
    {
      "cell_type": "markdown",
      "metadata": {
        "id": "m1nhsIbUvf5o"
      },
      "source": [
        "# Example from `sklearn`\n",
        "\n",
        "https://scikit-learn.org/stable/modules/preprocessing.html#preprocessing"
      ]
    },
    {
      "cell_type": "code",
      "execution_count": null,
      "metadata": {
        "id": "WxOfE2Kxvf5o"
      },
      "outputs": [],
      "source": [
        "from sklearn import preprocessing\n",
        "import numpy as np"
      ]
    },
    {
      "cell_type": "markdown",
      "source": [
        "## **Suppose** we have the following data, 3 rows and 3 columns."
      ],
      "metadata": {
        "id": "y7PBVu5tzFEV"
      }
    },
    {
      "cell_type": "code",
      "execution_count": null,
      "metadata": {
        "id": "rcAc4IsTvf5o"
      },
      "outputs": [],
      "source": [
        "X_train = np.array([[ 1., -1.,  2.],\n",
        "                     [ 2.,  0.,  0.],\n",
        "                     [ 0.,  1., -1.]])"
      ]
    },
    {
      "cell_type": "markdown",
      "source": [
        "### **Here, we use `sklearn`'s scaler, to rescale the data:**\n",
        "\n",
        "$rescaled\\_data = \\frac{X-E(X)}{scale} = \\frac{X - \\mu}{scale} = \\frac{X - \\mu}{\\sigma}$\n",
        "\n",
        "**Where:**\n",
        "\n",
        "$scale = \\sigma = \\sqrt{Var(X)}$ and $\\mu = E(X)$\n",
        "\n",
        "The StandardScaler class is a transformer that **standardizes** features by removing the **mean** and scaling to **unit variance**:"
      ],
      "metadata": {
        "id": "X6uvDr15zaNA"
      }
    },
    {
      "cell_type": "code",
      "execution_count": null,
      "metadata": {
        "id": "3IbTmMkbvf5p"
      },
      "outputs": [],
      "source": [
        "scaler = preprocessing.StandardScaler().fit(X_train)"
      ]
    },
    {
      "cell_type": "markdown",
      "source": [
        "**Here**, we access the **mean_** `attribute` of the StandardScaler `object` which is an `instance` of the StandardScaler `class`."
      ],
      "metadata": {
        "id": "9v-1po6a0aDL"
      }
    },
    {
      "cell_type": "code",
      "execution_count": null,
      "metadata": {
        "id": "SFrm69TMvf5q",
        "outputId": "8ce1b88e-3488-4bd8-f8cb-f73ae75deae8",
        "colab": {
          "base_uri": "https://localhost:8080/"
        }
      },
      "outputs": [
        {
          "output_type": "execute_result",
          "data": {
            "text/plain": [
              "array([1.        , 0.        , 0.33333333])"
            ]
          },
          "metadata": {},
          "execution_count": 21
        }
      ],
      "source": [
        "scaler.mean_"
      ]
    },
    {
      "cell_type": "markdown",
      "source": [
        "**Here**, we access the **scale_** `attribute` of the StandardScaler `object` which is an `instance` of the StandardScaler `class`."
      ],
      "metadata": {
        "id": "CPjLl5z71kP1"
      }
    },
    {
      "cell_type": "code",
      "execution_count": null,
      "metadata": {
        "id": "GDPVGntAvf5q",
        "outputId": "287b38ef-01d6-45eb-8fbc-0de825f1e7c8",
        "colab": {
          "base_uri": "https://localhost:8080/"
        }
      },
      "outputs": [
        {
          "output_type": "execute_result",
          "data": {
            "text/plain": [
              "array([0.81649658, 0.81649658, 1.24721913])"
            ]
          },
          "metadata": {},
          "execution_count": 22
        }
      ],
      "source": [
        "scaler.scale_"
      ]
    },
    {
      "cell_type": "markdown",
      "source": [
        "**Next**, we rescale the original data by using the .transform() `method` of the StandardScaler `object` (which is named `scaler`)."
      ],
      "metadata": {
        "id": "C5Si-JJR1_UM"
      }
    },
    {
      "cell_type": "code",
      "execution_count": null,
      "metadata": {
        "id": "iEc9dBCAvf5r",
        "outputId": "8ecc1925-867b-4286-f58d-64fe60b1edac",
        "colab": {
          "base_uri": "https://localhost:8080/"
        }
      },
      "outputs": [
        {
          "output_type": "execute_result",
          "data": {
            "text/plain": [
              "array([[ 0.        , -1.22474487,  1.33630621],\n",
              "       [ 1.22474487,  0.        , -0.26726124],\n",
              "       [-1.22474487,  1.22474487, -1.06904497]])"
            ]
          },
          "metadata": {},
          "execution_count": 23
        }
      ],
      "source": [
        "X_scaled = scaler.transform(X_train)\n",
        "X_scaled"
      ]
    },
    {
      "cell_type": "markdown",
      "source": [
        "**Here**, we calculate the mean over each column using the `.mean(axis = 0)`.\n",
        "\n",
        "If you want to calculate the mean over the rows, you use `.mean(axis=1)`."
      ],
      "metadata": {
        "id": "c4ciI2ne3YyU"
      }
    },
    {
      "cell_type": "code",
      "execution_count": null,
      "metadata": {
        "id": "Oo5v66RCvf5r",
        "outputId": "deaab32d-7baa-44f3-e1d2-1914e4e6dab6",
        "colab": {
          "base_uri": "https://localhost:8080/"
        }
      },
      "outputs": [
        {
          "output_type": "execute_result",
          "data": {
            "text/plain": [
              "array([0., 0., 0.])"
            ]
          },
          "metadata": {},
          "execution_count": 24
        }
      ],
      "source": [
        "X_scaled.mean(axis=0)"
      ]
    },
    {
      "cell_type": "markdown",
      "source": [
        "**Here**, we calculate the **standard  (std)** over each column using the `.std(axis = 0)`.\n",
        "\n",
        "If you want to calculate the standard deviation over the rows, you use `.std(axis=1)`."
      ],
      "metadata": {
        "id": "EYBh7WcB3tY3"
      }
    },
    {
      "cell_type": "code",
      "execution_count": null,
      "metadata": {
        "id": "c-44hpAWvf5r",
        "outputId": "b97d65ab-d51b-4f86-ab35-95519a701e10",
        "colab": {
          "base_uri": "https://localhost:8080/"
        }
      },
      "outputs": [
        {
          "output_type": "execute_result",
          "data": {
            "text/plain": [
              "array([1., 1., 1.])"
            ]
          },
          "metadata": {},
          "execution_count": 25
        }
      ],
      "source": [
        "X_scaled.std(axis=0)"
      ]
    },
    {
      "cell_type": "markdown",
      "metadata": {
        "id": "GFNO0mxSj8h8"
      },
      "source": [
        "<br>\n",
        "\n",
        "# **Installing modules**:\n",
        "\n",
        "**To extend the functionality** (using more than the built-ins): we need to install and use packages.\n",
        "**Installing packages** is simple:\n",
        "\n",
        "`!pip install {packageName}`"
      ]
    },
    {
      "cell_type": "code",
      "execution_count": null,
      "metadata": {
        "colab": {
          "base_uri": "https://localhost:8080/"
        },
        "id": "79P8d-88kJy4",
        "outputId": "3398cce4-be30-43ba-e507-b21972f61528"
      },
      "outputs": [
        {
          "output_type": "stream",
          "name": "stdout",
          "text": [
            "Looking in indexes: https://pypi.org/simple, https://us-python.pkg.dev/colab-wheels/public/simple/\n",
            "Requirement already satisfied: numpy in /usr/local/lib/python3.9/dist-packages (1.22.4)\n",
            "Looking in indexes: https://pypi.org/simple, https://us-python.pkg.dev/colab-wheels/public/simple/\n",
            "Requirement already satisfied: pandas in /usr/local/lib/python3.9/dist-packages (1.5.3)\n",
            "Requirement already satisfied: numpy>=1.20.3 in /usr/local/lib/python3.9/dist-packages (from pandas) (1.22.4)\n",
            "Requirement already satisfied: pytz>=2020.1 in /usr/local/lib/python3.9/dist-packages (from pandas) (2022.7.1)\n",
            "Requirement already satisfied: python-dateutil>=2.8.1 in /usr/local/lib/python3.9/dist-packages (from pandas) (2.8.2)\n",
            "Requirement already satisfied: six>=1.5 in /usr/local/lib/python3.9/dist-packages (from python-dateutil>=2.8.1->pandas) (1.16.0)\n"
          ]
        }
      ],
      "source": [
        "!pip install numpy\n",
        "!pip install pandas"
      ]
    },
    {
      "cell_type": "markdown",
      "metadata": {
        "id": "Ldkavyn3kuN1"
      },
      "source": [
        "# Google colab already has a bunch of convenient packages installed!\n",
        "\n",
        "### Next, we do need to import them to use them.\n",
        "\n",
        "You can **import a package** by using:\n",
        "import {package} as {short_name}"
      ]
    },
    {
      "cell_type": "code",
      "execution_count": null,
      "metadata": {
        "id": "MPoTbAhek2U0"
      },
      "outputs": [],
      "source": [
        "import os\n",
        "import math\n",
        "import warnings\n",
        "import functools\n",
        "import tqdm\n",
        "\n",
        "# The packages we installed\n",
        "import numpy as np\n",
        "import pandas as pd\n",
        "\n",
        "# Sklearn packages for ML\n",
        "import sklearn.metrics\n",
        "import sklearn.model_selection\n",
        "import sklearn.neighbors\n",
        "import sklearn.preprocessing\n",
        "\n",
        "# Importing packages related to plotting\n",
        "import matplotlib.pyplot as plt\n",
        "import matplotlib.colors\n",
        "import seaborn as sns\n",
        "\n",
        "# Some settings for the plotting packages.\n",
        "sns.set(style=\"ticks\")\n",
        "sns.set_style(\"whitegrid\")\n",
        "\n",
        "plt.rcParams.update(\n",
        "    {\n",
        "        \"figure.figsize\": (10, 8),\n",
        "        \"axes.titlesize\": 20,\n",
        "        \"axes.labelsize\": 15,\n",
        "        \"legend.fontsize\": 15,\n",
        "        \"axes.grid\": True,\n",
        "        \"axes.axisbelow\": True,\n",
        "        \"pcolor.shading\": \"auto\",\n",
        "    }\n",
        ")\n",
        "\n",
        "my_colors = [sns.color_palette()[0], sns.color_palette()[1], sns.color_palette()[2]]"
      ]
    },
    {
      "cell_type": "markdown",
      "metadata": {
        "id": "NL8J6bgsmGl7"
      },
      "source": [
        "# **Part 1: Exploratory Data Analysis**"
      ]
    },
    {
      "cell_type": "markdown",
      "metadata": {
        "id": "kcMGkLDbmGR1"
      },
      "source": [
        "## Background: .parquet files\n",
        "\n",
        "* Columnar storage nature of the (parquet) format allows us to easily select a subset of columns for all rows.\n",
        "* Binary format and allows encoded data types.\n",
        "* Metadata (schema at three levels: file, chunk and page header)."
      ]
    },
    {
      "cell_type": "markdown",
      "metadata": {
        "id": "JjmQVh20nWH9"
      },
      "source": [
        "## **Loading Data**\n",
        "\n",
        "The **pandas** library has a DataFrame class."
      ]
    },
    {
      "cell_type": "code",
      "execution_count": null,
      "metadata": {
        "id": "81JpYjDZmlAW"
      },
      "outputs": [],
      "source": [
        "# Reading the data, by specifying the path to the data\n",
        "data_path = \"drive/MyDrive/Colab Notebooks/data.parquet\"\n",
        "\n",
        "# Here, the data object is an instance of the DataFrame class.\n",
        "data = pd.read_parquet(data_path)"
      ]
    },
    {
      "cell_type": "markdown",
      "metadata": {
        "id": "MWuq9_y3oB_8"
      },
      "source": [
        "After **loading the data**, let us see what it looks like"
      ]
    },
    {
      "cell_type": "code",
      "execution_count": null,
      "metadata": {
        "colab": {
          "base_uri": "https://localhost:8080/"
        },
        "id": "vMzQuKTeoGoT",
        "outputId": "b6fd4e90-0fa8-42fc-d717-eb5f11ebd554"
      },
      "outputs": [
        {
          "output_type": "stream",
          "name": "stdout",
          "text": [
            "<class 'pandas.core.frame.DataFrame'>\n",
            "Int64Index: 450 entries, 0 to 149\n",
            "Data columns (total 7 columns):\n",
            " #   Column                    Non-Null Count  Dtype  \n",
            "---  ------                    --------------  -----  \n",
            " 0   shopper_id                450 non-null    object \n",
            " 1   average_revenue           450 non-null    float64\n",
            " 2   average_basket_size       450 non-null    float64\n",
            " 3   fraction_canned_food      450 non-null    float64\n",
            " 4   fraction_national_brands  450 non-null    float64\n",
            " 5   segment_name              450 non-null    object \n",
            " 6   is_cherry_picker          450 non-null    int64  \n",
            "dtypes: float64(4), int64(1), object(2)\n",
            "memory usage: 28.1+ KB\n"
          ]
        }
      ],
      "source": [
        "# We can see the columns and the data type (Dtype) with .info()\n",
        "data.info()"
      ]
    },
    {
      "cell_type": "markdown",
      "metadata": {
        "id": "An2n0SL9qE6P"
      },
      "source": [
        "### **Data content:** what are we working with?\n",
        "The dataset consists of 450 observations (450 shoppers):\n",
        "\n",
        "* `shopper_id`(object): The loyalty program ID.\n",
        "* `average_revenue`(float64): Average monthly spending in USD (i.e., revenue).\n",
        "* `average_basket_size`(float64): Average basket size per shopping trip (i.e., number of SKUs purchased on a trip).\n",
        "* `fraction_canned_food`(float64): Fraction of purchases that are canned food products.\n",
        "* `fraction_national_brands`(float64): Fraction of purchases that are products manufactured by national brands.\n",
        "* `segment_name`(object): The segment each customer was assigned.\n",
        "* `is_cherry_picker`(int64): The loyalty program ID."
      ]
    },
    {
      "cell_type": "markdown",
      "metadata": {
        "id": "f2LbUvRXs5V8"
      },
      "source": [
        "### **What do the observations (rows) of the data look like?**\n",
        "\n",
        "We often use the `.head()` or `.tail()` methods to look how a few of the observations look like\n",
        "\n",
        "The .head(n) shows the first n observations of the dataset, default n = 5."
      ]
    },
    {
      "cell_type": "code",
      "execution_count": null,
      "metadata": {
        "colab": {
          "base_uri": "https://localhost:8080/",
          "height": 353
        },
        "id": "Sc7eUfQ0oOMB",
        "outputId": "d8c55f3d-ad6a-483b-c87e-d5a4ef155d7b"
      },
      "outputs": [
        {
          "output_type": "execute_result",
          "data": {
            "text/plain": [
              "    shopper_id  average_revenue  average_basket_size  fraction_canned_food  \\\n",
              "0  shopper_000       141.817975             3.541991              0.165028   \n",
              "1  shopper_001       144.396016             3.860022              0.163544   \n",
              "2  shopper_002       130.580378             3.761713              0.149754   \n",
              "3  shopper_003       167.258689             3.555836              0.145920   \n",
              "4  shopper_004       144.925715             4.021508              0.170981   \n",
              "\n",
              "   fraction_national_brands         segment_name  is_cherry_picker  \n",
              "0                  0.077541  The Obnoxious Teens                 0  \n",
              "1                  0.069220  The Obnoxious Teens                 1  \n",
              "2                  0.067993  The Obnoxious Teens                 0  \n",
              "3                  0.067840  The Obnoxious Teens                 0  \n",
              "4                  0.078963  The Obnoxious Teens                 0  "
            ],
            "text/html": [
              "\n",
              "  <div id=\"df-eef7045f-1dfb-4df9-a3a7-7b045291d76a\">\n",
              "    <div class=\"colab-df-container\">\n",
              "      <div>\n",
              "<style scoped>\n",
              "    .dataframe tbody tr th:only-of-type {\n",
              "        vertical-align: middle;\n",
              "    }\n",
              "\n",
              "    .dataframe tbody tr th {\n",
              "        vertical-align: top;\n",
              "    }\n",
              "\n",
              "    .dataframe thead th {\n",
              "        text-align: right;\n",
              "    }\n",
              "</style>\n",
              "<table border=\"1\" class=\"dataframe\">\n",
              "  <thead>\n",
              "    <tr style=\"text-align: right;\">\n",
              "      <th></th>\n",
              "      <th>shopper_id</th>\n",
              "      <th>average_revenue</th>\n",
              "      <th>average_basket_size</th>\n",
              "      <th>fraction_canned_food</th>\n",
              "      <th>fraction_national_brands</th>\n",
              "      <th>segment_name</th>\n",
              "      <th>is_cherry_picker</th>\n",
              "    </tr>\n",
              "  </thead>\n",
              "  <tbody>\n",
              "    <tr>\n",
              "      <th>0</th>\n",
              "      <td>shopper_000</td>\n",
              "      <td>141.817975</td>\n",
              "      <td>3.541991</td>\n",
              "      <td>0.165028</td>\n",
              "      <td>0.077541</td>\n",
              "      <td>The Obnoxious Teens</td>\n",
              "      <td>0</td>\n",
              "    </tr>\n",
              "    <tr>\n",
              "      <th>1</th>\n",
              "      <td>shopper_001</td>\n",
              "      <td>144.396016</td>\n",
              "      <td>3.860022</td>\n",
              "      <td>0.163544</td>\n",
              "      <td>0.069220</td>\n",
              "      <td>The Obnoxious Teens</td>\n",
              "      <td>1</td>\n",
              "    </tr>\n",
              "    <tr>\n",
              "      <th>2</th>\n",
              "      <td>shopper_002</td>\n",
              "      <td>130.580378</td>\n",
              "      <td>3.761713</td>\n",
              "      <td>0.149754</td>\n",
              "      <td>0.067993</td>\n",
              "      <td>The Obnoxious Teens</td>\n",
              "      <td>0</td>\n",
              "    </tr>\n",
              "    <tr>\n",
              "      <th>3</th>\n",
              "      <td>shopper_003</td>\n",
              "      <td>167.258689</td>\n",
              "      <td>3.555836</td>\n",
              "      <td>0.145920</td>\n",
              "      <td>0.067840</td>\n",
              "      <td>The Obnoxious Teens</td>\n",
              "      <td>0</td>\n",
              "    </tr>\n",
              "    <tr>\n",
              "      <th>4</th>\n",
              "      <td>shopper_004</td>\n",
              "      <td>144.925715</td>\n",
              "      <td>4.021508</td>\n",
              "      <td>0.170981</td>\n",
              "      <td>0.078963</td>\n",
              "      <td>The Obnoxious Teens</td>\n",
              "      <td>0</td>\n",
              "    </tr>\n",
              "  </tbody>\n",
              "</table>\n",
              "</div>\n",
              "      <button class=\"colab-df-convert\" onclick=\"convertToInteractive('df-eef7045f-1dfb-4df9-a3a7-7b045291d76a')\"\n",
              "              title=\"Convert this dataframe to an interactive table.\"\n",
              "              style=\"display:none;\">\n",
              "        \n",
              "  <svg xmlns=\"http://www.w3.org/2000/svg\" height=\"24px\"viewBox=\"0 0 24 24\"\n",
              "       width=\"24px\">\n",
              "    <path d=\"M0 0h24v24H0V0z\" fill=\"none\"/>\n",
              "    <path d=\"M18.56 5.44l.94 2.06.94-2.06 2.06-.94-2.06-.94-.94-2.06-.94 2.06-2.06.94zm-11 1L8.5 8.5l.94-2.06 2.06-.94-2.06-.94L8.5 2.5l-.94 2.06-2.06.94zm10 10l.94 2.06.94-2.06 2.06-.94-2.06-.94-.94-2.06-.94 2.06-2.06.94z\"/><path d=\"M17.41 7.96l-1.37-1.37c-.4-.4-.92-.59-1.43-.59-.52 0-1.04.2-1.43.59L10.3 9.45l-7.72 7.72c-.78.78-.78 2.05 0 2.83L4 21.41c.39.39.9.59 1.41.59.51 0 1.02-.2 1.41-.59l7.78-7.78 2.81-2.81c.8-.78.8-2.07 0-2.86zM5.41 20L4 18.59l7.72-7.72 1.47 1.35L5.41 20z\"/>\n",
              "  </svg>\n",
              "      </button>\n",
              "      \n",
              "  <style>\n",
              "    .colab-df-container {\n",
              "      display:flex;\n",
              "      flex-wrap:wrap;\n",
              "      gap: 12px;\n",
              "    }\n",
              "\n",
              "    .colab-df-convert {\n",
              "      background-color: #E8F0FE;\n",
              "      border: none;\n",
              "      border-radius: 50%;\n",
              "      cursor: pointer;\n",
              "      display: none;\n",
              "      fill: #1967D2;\n",
              "      height: 32px;\n",
              "      padding: 0 0 0 0;\n",
              "      width: 32px;\n",
              "    }\n",
              "\n",
              "    .colab-df-convert:hover {\n",
              "      background-color: #E2EBFA;\n",
              "      box-shadow: 0px 1px 2px rgba(60, 64, 67, 0.3), 0px 1px 3px 1px rgba(60, 64, 67, 0.15);\n",
              "      fill: #174EA6;\n",
              "    }\n",
              "\n",
              "    [theme=dark] .colab-df-convert {\n",
              "      background-color: #3B4455;\n",
              "      fill: #D2E3FC;\n",
              "    }\n",
              "\n",
              "    [theme=dark] .colab-df-convert:hover {\n",
              "      background-color: #434B5C;\n",
              "      box-shadow: 0px 1px 3px 1px rgba(0, 0, 0, 0.15);\n",
              "      filter: drop-shadow(0px 1px 2px rgba(0, 0, 0, 0.3));\n",
              "      fill: #FFFFFF;\n",
              "    }\n",
              "  </style>\n",
              "\n",
              "      <script>\n",
              "        const buttonEl =\n",
              "          document.querySelector('#df-eef7045f-1dfb-4df9-a3a7-7b045291d76a button.colab-df-convert');\n",
              "        buttonEl.style.display =\n",
              "          google.colab.kernel.accessAllowed ? 'block' : 'none';\n",
              "\n",
              "        async function convertToInteractive(key) {\n",
              "          const element = document.querySelector('#df-eef7045f-1dfb-4df9-a3a7-7b045291d76a');\n",
              "          const dataTable =\n",
              "            await google.colab.kernel.invokeFunction('convertToInteractive',\n",
              "                                                     [key], {});\n",
              "          if (!dataTable) return;\n",
              "\n",
              "          const docLinkHtml = 'Like what you see? Visit the ' +\n",
              "            '<a target=\"_blank\" href=https://colab.research.google.com/notebooks/data_table.ipynb>data table notebook</a>'\n",
              "            + ' to learn more about interactive tables.';\n",
              "          element.innerHTML = '';\n",
              "          dataTable['output_type'] = 'display_data';\n",
              "          await google.colab.output.renderOutput(dataTable, element);\n",
              "          const docLink = document.createElement('div');\n",
              "          docLink.innerHTML = docLinkHtml;\n",
              "          element.appendChild(docLink);\n",
              "        }\n",
              "      </script>\n",
              "    </div>\n",
              "  </div>\n",
              "  "
            ]
          },
          "metadata": {},
          "execution_count": 34
        }
      ],
      "source": [
        "data.head()"
      ]
    },
    {
      "cell_type": "code",
      "execution_count": null,
      "metadata": {
        "colab": {
          "base_uri": "https://localhost:8080/",
          "height": 268
        },
        "id": "3CXM8L4xtCxe",
        "outputId": "0045c738-fe8d-4ce5-c43d-b57d3cc7ae21"
      },
      "outputs": [
        {
          "output_type": "execute_result",
          "data": {
            "text/plain": [
              "      shopper_id  average_revenue  average_basket_size  fraction_canned_food  \\\n",
              "145  shopper_445       587.467485            44.225649              0.230167   \n",
              "146  shopper_446       498.108805            32.448675              0.210713   \n",
              "147  shopper_447       502.550763            38.304781              0.219645   \n",
              "148  shopper_448       562.634494            51.018432              0.198177   \n",
              "149  shopper_449       564.658163            31.917702              0.186912   \n",
              "\n",
              "     fraction_national_brands segment_name  is_cherry_picker  \n",
              "145                  0.064235  The Prepper                 1  \n",
              "146                  0.055606  The Prepper                 0  \n",
              "147                  0.067221  The Prepper                 0  \n",
              "148                  0.073580  The Prepper                 0  \n",
              "149                  0.063536  The Prepper                 0  "
            ],
            "text/html": [
              "\n",
              "  <div id=\"df-dd014514-2dba-40b0-9826-07ce5728b628\">\n",
              "    <div class=\"colab-df-container\">\n",
              "      <div>\n",
              "<style scoped>\n",
              "    .dataframe tbody tr th:only-of-type {\n",
              "        vertical-align: middle;\n",
              "    }\n",
              "\n",
              "    .dataframe tbody tr th {\n",
              "        vertical-align: top;\n",
              "    }\n",
              "\n",
              "    .dataframe thead th {\n",
              "        text-align: right;\n",
              "    }\n",
              "</style>\n",
              "<table border=\"1\" class=\"dataframe\">\n",
              "  <thead>\n",
              "    <tr style=\"text-align: right;\">\n",
              "      <th></th>\n",
              "      <th>shopper_id</th>\n",
              "      <th>average_revenue</th>\n",
              "      <th>average_basket_size</th>\n",
              "      <th>fraction_canned_food</th>\n",
              "      <th>fraction_national_brands</th>\n",
              "      <th>segment_name</th>\n",
              "      <th>is_cherry_picker</th>\n",
              "    </tr>\n",
              "  </thead>\n",
              "  <tbody>\n",
              "    <tr>\n",
              "      <th>145</th>\n",
              "      <td>shopper_445</td>\n",
              "      <td>587.467485</td>\n",
              "      <td>44.225649</td>\n",
              "      <td>0.230167</td>\n",
              "      <td>0.064235</td>\n",
              "      <td>The Prepper</td>\n",
              "      <td>1</td>\n",
              "    </tr>\n",
              "    <tr>\n",
              "      <th>146</th>\n",
              "      <td>shopper_446</td>\n",
              "      <td>498.108805</td>\n",
              "      <td>32.448675</td>\n",
              "      <td>0.210713</td>\n",
              "      <td>0.055606</td>\n",
              "      <td>The Prepper</td>\n",
              "      <td>0</td>\n",
              "    </tr>\n",
              "    <tr>\n",
              "      <th>147</th>\n",
              "      <td>shopper_447</td>\n",
              "      <td>502.550763</td>\n",
              "      <td>38.304781</td>\n",
              "      <td>0.219645</td>\n",
              "      <td>0.067221</td>\n",
              "      <td>The Prepper</td>\n",
              "      <td>0</td>\n",
              "    </tr>\n",
              "    <tr>\n",
              "      <th>148</th>\n",
              "      <td>shopper_448</td>\n",
              "      <td>562.634494</td>\n",
              "      <td>51.018432</td>\n",
              "      <td>0.198177</td>\n",
              "      <td>0.073580</td>\n",
              "      <td>The Prepper</td>\n",
              "      <td>0</td>\n",
              "    </tr>\n",
              "    <tr>\n",
              "      <th>149</th>\n",
              "      <td>shopper_449</td>\n",
              "      <td>564.658163</td>\n",
              "      <td>31.917702</td>\n",
              "      <td>0.186912</td>\n",
              "      <td>0.063536</td>\n",
              "      <td>The Prepper</td>\n",
              "      <td>0</td>\n",
              "    </tr>\n",
              "  </tbody>\n",
              "</table>\n",
              "</div>\n",
              "      <button class=\"colab-df-convert\" onclick=\"convertToInteractive('df-dd014514-2dba-40b0-9826-07ce5728b628')\"\n",
              "              title=\"Convert this dataframe to an interactive table.\"\n",
              "              style=\"display:none;\">\n",
              "        \n",
              "  <svg xmlns=\"http://www.w3.org/2000/svg\" height=\"24px\"viewBox=\"0 0 24 24\"\n",
              "       width=\"24px\">\n",
              "    <path d=\"M0 0h24v24H0V0z\" fill=\"none\"/>\n",
              "    <path d=\"M18.56 5.44l.94 2.06.94-2.06 2.06-.94-2.06-.94-.94-2.06-.94 2.06-2.06.94zm-11 1L8.5 8.5l.94-2.06 2.06-.94-2.06-.94L8.5 2.5l-.94 2.06-2.06.94zm10 10l.94 2.06.94-2.06 2.06-.94-2.06-.94-.94-2.06-.94 2.06-2.06.94z\"/><path d=\"M17.41 7.96l-1.37-1.37c-.4-.4-.92-.59-1.43-.59-.52 0-1.04.2-1.43.59L10.3 9.45l-7.72 7.72c-.78.78-.78 2.05 0 2.83L4 21.41c.39.39.9.59 1.41.59.51 0 1.02-.2 1.41-.59l7.78-7.78 2.81-2.81c.8-.78.8-2.07 0-2.86zM5.41 20L4 18.59l7.72-7.72 1.47 1.35L5.41 20z\"/>\n",
              "  </svg>\n",
              "      </button>\n",
              "      \n",
              "  <style>\n",
              "    .colab-df-container {\n",
              "      display:flex;\n",
              "      flex-wrap:wrap;\n",
              "      gap: 12px;\n",
              "    }\n",
              "\n",
              "    .colab-df-convert {\n",
              "      background-color: #E8F0FE;\n",
              "      border: none;\n",
              "      border-radius: 50%;\n",
              "      cursor: pointer;\n",
              "      display: none;\n",
              "      fill: #1967D2;\n",
              "      height: 32px;\n",
              "      padding: 0 0 0 0;\n",
              "      width: 32px;\n",
              "    }\n",
              "\n",
              "    .colab-df-convert:hover {\n",
              "      background-color: #E2EBFA;\n",
              "      box-shadow: 0px 1px 2px rgba(60, 64, 67, 0.3), 0px 1px 3px 1px rgba(60, 64, 67, 0.15);\n",
              "      fill: #174EA6;\n",
              "    }\n",
              "\n",
              "    [theme=dark] .colab-df-convert {\n",
              "      background-color: #3B4455;\n",
              "      fill: #D2E3FC;\n",
              "    }\n",
              "\n",
              "    [theme=dark] .colab-df-convert:hover {\n",
              "      background-color: #434B5C;\n",
              "      box-shadow: 0px 1px 3px 1px rgba(0, 0, 0, 0.15);\n",
              "      filter: drop-shadow(0px 1px 2px rgba(0, 0, 0, 0.3));\n",
              "      fill: #FFFFFF;\n",
              "    }\n",
              "  </style>\n",
              "\n",
              "      <script>\n",
              "        const buttonEl =\n",
              "          document.querySelector('#df-dd014514-2dba-40b0-9826-07ce5728b628 button.colab-df-convert');\n",
              "        buttonEl.style.display =\n",
              "          google.colab.kernel.accessAllowed ? 'block' : 'none';\n",
              "\n",
              "        async function convertToInteractive(key) {\n",
              "          const element = document.querySelector('#df-dd014514-2dba-40b0-9826-07ce5728b628');\n",
              "          const dataTable =\n",
              "            await google.colab.kernel.invokeFunction('convertToInteractive',\n",
              "                                                     [key], {});\n",
              "          if (!dataTable) return;\n",
              "\n",
              "          const docLinkHtml = 'Like what you see? Visit the ' +\n",
              "            '<a target=\"_blank\" href=https://colab.research.google.com/notebooks/data_table.ipynb>data table notebook</a>'\n",
              "            + ' to learn more about interactive tables.';\n",
              "          element.innerHTML = '';\n",
              "          dataTable['output_type'] = 'display_data';\n",
              "          await google.colab.output.renderOutput(dataTable, element);\n",
              "          const docLink = document.createElement('div');\n",
              "          docLink.innerHTML = docLinkHtml;\n",
              "          element.appendChild(docLink);\n",
              "        }\n",
              "      </script>\n",
              "    </div>\n",
              "  </div>\n",
              "  "
            ]
          },
          "metadata": {},
          "execution_count": 35
        }
      ],
      "source": [
        "data.tail()"
      ]
    },
    {
      "cell_type": "markdown",
      "metadata": {
        "id": "skY6BB0pu0hw"
      },
      "source": [
        "### Next, we look at some **summary statistics:**"
      ]
    },
    {
      "cell_type": "code",
      "execution_count": null,
      "metadata": {
        "colab": {
          "base_uri": "https://localhost:8080/",
          "height": 361
        },
        "id": "z4N29Pe7u5qL",
        "outputId": "36b97c89-ffd4-4349-b884-30812397e8e6"
      },
      "outputs": [
        {
          "output_type": "execute_result",
          "data": {
            "text/plain": [
              "       average_revenue  average_basket_size  fraction_canned_food  \\\n",
              "count       450.000000           450.000000            450.000000   \n",
              "mean        378.464356            23.884672              0.194487   \n",
              "std         182.141639            15.409354              0.028280   \n",
              "min          90.757119             1.769286              0.138783   \n",
              "25%         160.378473             6.059692              0.171622   \n",
              "50%         425.914019            26.463476              0.193793   \n",
              "75%         520.202382            36.533924              0.216222   \n",
              "max         759.837484            56.032508              0.266659   \n",
              "\n",
              "       fraction_national_brands  is_cherry_picker  \n",
              "count                450.000000        450.000000  \n",
              "mean                   0.067881          0.460000  \n",
              "std                    0.009784          0.498952  \n",
              "min                    0.043475          0.000000  \n",
              "25%                    0.061535          0.000000  \n",
              "50%                    0.067127          0.000000  \n",
              "75%                    0.073704          1.000000  \n",
              "max                    0.099542          1.000000  "
            ],
            "text/html": [
              "\n",
              "  <div id=\"df-33b7782d-dbfa-4341-a062-35e77c3fc0ec\">\n",
              "    <div class=\"colab-df-container\">\n",
              "      <div>\n",
              "<style scoped>\n",
              "    .dataframe tbody tr th:only-of-type {\n",
              "        vertical-align: middle;\n",
              "    }\n",
              "\n",
              "    .dataframe tbody tr th {\n",
              "        vertical-align: top;\n",
              "    }\n",
              "\n",
              "    .dataframe thead th {\n",
              "        text-align: right;\n",
              "    }\n",
              "</style>\n",
              "<table border=\"1\" class=\"dataframe\">\n",
              "  <thead>\n",
              "    <tr style=\"text-align: right;\">\n",
              "      <th></th>\n",
              "      <th>average_revenue</th>\n",
              "      <th>average_basket_size</th>\n",
              "      <th>fraction_canned_food</th>\n",
              "      <th>fraction_national_brands</th>\n",
              "      <th>is_cherry_picker</th>\n",
              "    </tr>\n",
              "  </thead>\n",
              "  <tbody>\n",
              "    <tr>\n",
              "      <th>count</th>\n",
              "      <td>450.000000</td>\n",
              "      <td>450.000000</td>\n",
              "      <td>450.000000</td>\n",
              "      <td>450.000000</td>\n",
              "      <td>450.000000</td>\n",
              "    </tr>\n",
              "    <tr>\n",
              "      <th>mean</th>\n",
              "      <td>378.464356</td>\n",
              "      <td>23.884672</td>\n",
              "      <td>0.194487</td>\n",
              "      <td>0.067881</td>\n",
              "      <td>0.460000</td>\n",
              "    </tr>\n",
              "    <tr>\n",
              "      <th>std</th>\n",
              "      <td>182.141639</td>\n",
              "      <td>15.409354</td>\n",
              "      <td>0.028280</td>\n",
              "      <td>0.009784</td>\n",
              "      <td>0.498952</td>\n",
              "    </tr>\n",
              "    <tr>\n",
              "      <th>min</th>\n",
              "      <td>90.757119</td>\n",
              "      <td>1.769286</td>\n",
              "      <td>0.138783</td>\n",
              "      <td>0.043475</td>\n",
              "      <td>0.000000</td>\n",
              "    </tr>\n",
              "    <tr>\n",
              "      <th>25%</th>\n",
              "      <td>160.378473</td>\n",
              "      <td>6.059692</td>\n",
              "      <td>0.171622</td>\n",
              "      <td>0.061535</td>\n",
              "      <td>0.000000</td>\n",
              "    </tr>\n",
              "    <tr>\n",
              "      <th>50%</th>\n",
              "      <td>425.914019</td>\n",
              "      <td>26.463476</td>\n",
              "      <td>0.193793</td>\n",
              "      <td>0.067127</td>\n",
              "      <td>0.000000</td>\n",
              "    </tr>\n",
              "    <tr>\n",
              "      <th>75%</th>\n",
              "      <td>520.202382</td>\n",
              "      <td>36.533924</td>\n",
              "      <td>0.216222</td>\n",
              "      <td>0.073704</td>\n",
              "      <td>1.000000</td>\n",
              "    </tr>\n",
              "    <tr>\n",
              "      <th>max</th>\n",
              "      <td>759.837484</td>\n",
              "      <td>56.032508</td>\n",
              "      <td>0.266659</td>\n",
              "      <td>0.099542</td>\n",
              "      <td>1.000000</td>\n",
              "    </tr>\n",
              "  </tbody>\n",
              "</table>\n",
              "</div>\n",
              "      <button class=\"colab-df-convert\" onclick=\"convertToInteractive('df-33b7782d-dbfa-4341-a062-35e77c3fc0ec')\"\n",
              "              title=\"Convert this dataframe to an interactive table.\"\n",
              "              style=\"display:none;\">\n",
              "        \n",
              "  <svg xmlns=\"http://www.w3.org/2000/svg\" height=\"24px\"viewBox=\"0 0 24 24\"\n",
              "       width=\"24px\">\n",
              "    <path d=\"M0 0h24v24H0V0z\" fill=\"none\"/>\n",
              "    <path d=\"M18.56 5.44l.94 2.06.94-2.06 2.06-.94-2.06-.94-.94-2.06-.94 2.06-2.06.94zm-11 1L8.5 8.5l.94-2.06 2.06-.94-2.06-.94L8.5 2.5l-.94 2.06-2.06.94zm10 10l.94 2.06.94-2.06 2.06-.94-2.06-.94-.94-2.06-.94 2.06-2.06.94z\"/><path d=\"M17.41 7.96l-1.37-1.37c-.4-.4-.92-.59-1.43-.59-.52 0-1.04.2-1.43.59L10.3 9.45l-7.72 7.72c-.78.78-.78 2.05 0 2.83L4 21.41c.39.39.9.59 1.41.59.51 0 1.02-.2 1.41-.59l7.78-7.78 2.81-2.81c.8-.78.8-2.07 0-2.86zM5.41 20L4 18.59l7.72-7.72 1.47 1.35L5.41 20z\"/>\n",
              "  </svg>\n",
              "      </button>\n",
              "      \n",
              "  <style>\n",
              "    .colab-df-container {\n",
              "      display:flex;\n",
              "      flex-wrap:wrap;\n",
              "      gap: 12px;\n",
              "    }\n",
              "\n",
              "    .colab-df-convert {\n",
              "      background-color: #E8F0FE;\n",
              "      border: none;\n",
              "      border-radius: 50%;\n",
              "      cursor: pointer;\n",
              "      display: none;\n",
              "      fill: #1967D2;\n",
              "      height: 32px;\n",
              "      padding: 0 0 0 0;\n",
              "      width: 32px;\n",
              "    }\n",
              "\n",
              "    .colab-df-convert:hover {\n",
              "      background-color: #E2EBFA;\n",
              "      box-shadow: 0px 1px 2px rgba(60, 64, 67, 0.3), 0px 1px 3px 1px rgba(60, 64, 67, 0.15);\n",
              "      fill: #174EA6;\n",
              "    }\n",
              "\n",
              "    [theme=dark] .colab-df-convert {\n",
              "      background-color: #3B4455;\n",
              "      fill: #D2E3FC;\n",
              "    }\n",
              "\n",
              "    [theme=dark] .colab-df-convert:hover {\n",
              "      background-color: #434B5C;\n",
              "      box-shadow: 0px 1px 3px 1px rgba(0, 0, 0, 0.15);\n",
              "      filter: drop-shadow(0px 1px 2px rgba(0, 0, 0, 0.3));\n",
              "      fill: #FFFFFF;\n",
              "    }\n",
              "  </style>\n",
              "\n",
              "      <script>\n",
              "        const buttonEl =\n",
              "          document.querySelector('#df-33b7782d-dbfa-4341-a062-35e77c3fc0ec button.colab-df-convert');\n",
              "        buttonEl.style.display =\n",
              "          google.colab.kernel.accessAllowed ? 'block' : 'none';\n",
              "\n",
              "        async function convertToInteractive(key) {\n",
              "          const element = document.querySelector('#df-33b7782d-dbfa-4341-a062-35e77c3fc0ec');\n",
              "          const dataTable =\n",
              "            await google.colab.kernel.invokeFunction('convertToInteractive',\n",
              "                                                     [key], {});\n",
              "          if (!dataTable) return;\n",
              "\n",
              "          const docLinkHtml = 'Like what you see? Visit the ' +\n",
              "            '<a target=\"_blank\" href=https://colab.research.google.com/notebooks/data_table.ipynb>data table notebook</a>'\n",
              "            + ' to learn more about interactive tables.';\n",
              "          element.innerHTML = '';\n",
              "          dataTable['output_type'] = 'display_data';\n",
              "          await google.colab.output.renderOutput(dataTable, element);\n",
              "          const docLink = document.createElement('div');\n",
              "          docLink.innerHTML = docLinkHtml;\n",
              "          element.appendChild(docLink);\n",
              "        }\n",
              "      </script>\n",
              "    </div>\n",
              "  </div>\n",
              "  "
            ]
          },
          "metadata": {},
          "execution_count": 36
        }
      ],
      "source": [
        "data.describe()"
      ]
    },
    {
      "cell_type": "markdown",
      "metadata": {
        "id": "Lq3e262svh-g"
      },
      "source": [
        "### Lets now look at the segments, meet the sort of shoppers:"
      ]
    },
    {
      "cell_type": "markdown",
      "metadata": {
        "id": "HW9UzaNqwYSL"
      },
      "source": [
        "### The obnoxious teens:\n",
        "\n",
        "<img src=\"https://github.com/sbstn-gbl/learning-from-big-data/blob/main/source/_static/img/type-teens.gif?raw=true\" width=\"600\">\n",
        "\n",
        "\n",
        "### The prepper:\n",
        "<img src=\"https://github.com/sbstn-gbl/learning-from-big-data/blob/main/source/_static/img/type-prepper.gif?raw=true\" width=\"600\">\n",
        "\n",
        "\n",
        "### The shopper-for-hire:\n",
        "<img src=\"https://github.com/sbstn-gbl/learning-from-big-data/blob/main/source/_static/img/type-shopper-hire.gif?raw=true\" width=\"600\">\n",
        "\n"
      ]
    },
    {
      "cell_type": "code",
      "execution_count": null,
      "metadata": {
        "colab": {
          "base_uri": "https://localhost:8080/"
        },
        "id": "vjJseObjvn6N",
        "outputId": "2cc3ab81-0110-4da5-8ce1-37dcf285eae5"
      },
      "outputs": [
        {
          "output_type": "execute_result",
          "data": {
            "text/plain": [
              "segment_name\n",
              "The Obnoxious Teens     150\n",
              "The Prepper             150\n",
              "The Shopper-for-Hire    150\n",
              "Name: shopper_id, dtype: int64"
            ]
          },
          "metadata": {},
          "execution_count": 37
        }
      ],
      "source": [
        "# Here, we group the data by \"segment_name\" and count the number of unique \"shopper_id\" values for each group.\n",
        "data.groupby(\"segment_name\")[\"shopper_id\"].count()"
      ]
    },
    {
      "cell_type": "markdown",
      "source": [
        "**Suppose**, that we want to now the average spending per segment, how would we determine that?"
      ],
      "metadata": {
        "id": "oZDsQBCbBiJQ"
      }
    },
    {
      "cell_type": "code",
      "source": [
        "data.groupby(\"segment_name\")[\"average_revenue\"].mean()"
      ],
      "metadata": {
        "colab": {
          "base_uri": "https://localhost:8080/"
        },
        "id": "C-v_R2KvBrBT",
        "outputId": "c839e220-9db2-448a-d6f5-139b3a930a05"
      },
      "execution_count": null,
      "outputs": [
        {
          "output_type": "execute_result",
          "data": {
            "text/plain": [
              "segment_name\n",
              "The Obnoxious Teens     146.388560\n",
              "The Prepper             560.418395\n",
              "The Shopper-for-Hire    428.586112\n",
              "Name: average_revenue, dtype: float64"
            ]
          },
          "metadata": {},
          "execution_count": 38
        }
      ]
    },
    {
      "cell_type": "markdown",
      "source": [
        "**Next**, determing the maximum average spending per segment?"
      ],
      "metadata": {
        "id": "MzTN9kh7B3up"
      }
    },
    {
      "cell_type": "code",
      "source": [
        "data.groupby(\"segment_name\")[\"average_revenue\"].max()"
      ],
      "metadata": {
        "colab": {
          "base_uri": "https://localhost:8080/"
        },
        "id": "i4n0EYK3B-b1",
        "outputId": "90ef19ad-f7fd-40b9-e85d-0170a5c2f13c"
      },
      "execution_count": null,
      "outputs": [
        {
          "output_type": "execute_result",
          "data": {
            "text/plain": [
              "segment_name\n",
              "The Obnoxious Teens     209.605322\n",
              "The Prepper             759.837484\n",
              "The Shopper-for-Hire    563.249425\n",
              "Name: average_revenue, dtype: float64"
            ]
          },
          "metadata": {},
          "execution_count": 39
        }
      ]
    },
    {
      "cell_type": "markdown",
      "metadata": {
        "id": "XePnve5SxQ27"
      },
      "source": [
        "## **Data preparation**"
      ]
    },
    {
      "cell_type": "markdown",
      "metadata": {
        "id": "5O8XLJuyxhe1"
      },
      "source": [
        "Earlier, we looked at **dictionaries**, lets create one here to map a certain segment to a number"
      ]
    },
    {
      "cell_type": "code",
      "execution_count": null,
      "metadata": {
        "colab": {
          "base_uri": "https://localhost:8080/"
        },
        "id": "Pdg1jgdqv-5_",
        "outputId": "b668c922-06b6-4680-dfe4-1f8a60d43f0d"
      },
      "outputs": [
        {
          "output_type": "execute_result",
          "data": {
            "text/plain": [
              "{'The Obnoxious Teens': 0, 'The Shopper-for-Hire': 1, 'The Prepper': 2}"
            ]
          },
          "metadata": {},
          "execution_count": 40
        }
      ],
      "source": [
        "map_segment_name_to_id = {\n",
        "    name: ix for ix, name in enumerate(data[\"segment_name\"].unique())\n",
        "}\n",
        "\n",
        "map_segment_name_to_id"
      ]
    },
    {
      "cell_type": "markdown",
      "metadata": {
        "id": "QOR9kryHyytv"
      },
      "source": [
        "### This may look a bit complex, so lets deconstruct it step by step:"
      ]
    },
    {
      "cell_type": "code",
      "execution_count": null,
      "metadata": {
        "colab": {
          "base_uri": "https://localhost:8080/"
        },
        "id": "TTxjU_Ugy6E4",
        "outputId": "b77f6759-f98a-4052-b58f-32a18aeee0d1"
      },
      "outputs": [
        {
          "output_type": "execute_result",
          "data": {
            "text/plain": [
              "array(['The Obnoxious Teens', 'The Shopper-for-Hire', 'The Prepper'],\n",
              "      dtype=object)"
            ]
          },
          "metadata": {},
          "execution_count": 41
        }
      ],
      "source": [
        "# Here, we extract the unique segment (names) from the data.\n",
        "unique_segments = data[\"segment_name\"].unique()\n",
        "unique_segments"
      ]
    },
    {
      "cell_type": "markdown",
      "source": [
        "**Next**, we create an _empty_ dictionary which we will populate later."
      ],
      "metadata": {
        "id": "VIHTGdIb-gWN"
      }
    },
    {
      "cell_type": "code",
      "execution_count": null,
      "metadata": {
        "colab": {
          "base_uri": "https://localhost:8080/"
        },
        "id": "dZnRUawHy-dq",
        "outputId": "21f22910-6e5b-4e5b-9491-2af7ed18ff01"
      },
      "outputs": [
        {
          "output_type": "execute_result",
          "data": {
            "text/plain": [
              "{}"
            ]
          },
          "metadata": {},
          "execution_count": 42
        }
      ],
      "source": [
        "# Next, we initialize an empty dictionary, we will then use \"key\": \"value\"\n",
        "map_segment_name_to_id = {}\n",
        "\n",
        "# It is currently empty\n",
        "map_segment_name_to_id"
      ]
    },
    {
      "cell_type": "markdown",
      "source": [
        "**Here** we encounter our first built-in **function** in python: `len()`."
      ],
      "metadata": {
        "id": "832NOPwV-vyA"
      }
    },
    {
      "cell_type": "code",
      "execution_count": null,
      "metadata": {
        "colab": {
          "base_uri": "https://localhost:8080/"
        },
        "id": "llE-9FeGzYyr",
        "outputId": "37671e51-e689-455d-b93e-8e3faca97d09"
      },
      "outputs": [
        {
          "output_type": "execute_result",
          "data": {
            "text/plain": [
              "3"
            ]
          },
          "metadata": {},
          "execution_count": 43
        }
      ],
      "source": [
        "# How many unique segments are there?\n",
        "number_of_unique_segments = len(unique_segments)\n",
        "number_of_unique_segments"
      ]
    },
    {
      "cell_type": "code",
      "execution_count": null,
      "metadata": {
        "colab": {
          "base_uri": "https://localhost:8080/"
        },
        "id": "QYHZmqNTz9fC",
        "outputId": "8721fe3f-baf3-4e78-cfe6-a23a6d90a2c1"
      },
      "outputs": [
        {
          "output_type": "execute_result",
          "data": {
            "text/plain": [
              "{'The Obnoxious Teens': 0, 'The Shopper-for-Hire': 1, 'The Prepper': 2}"
            ]
          },
          "metadata": {},
          "execution_count": 44
        }
      ],
      "source": [
        "# Next, we populate the empty dictionary\n",
        "for unique_segment in range(number_of_unique_segments):\n",
        "    name = unique_segments[unique_segment]\n",
        "    map_segment_name_to_id[name] = unique_segment\n",
        "\n",
        "map_segment_name_to_id"
      ]
    },
    {
      "cell_type": "markdown",
      "metadata": {
        "id": "7TWmM_ur1a3V"
      },
      "source": [
        "### For data-analysis purposes, we would like to have \"number\":\"segment_name\" instead:"
      ]
    },
    {
      "cell_type": "code",
      "execution_count": null,
      "metadata": {
        "colab": {
          "base_uri": "https://localhost:8080/"
        },
        "id": "8KzSGWqu1nO1",
        "outputId": "634c0f2d-234d-4d06-92a3-476555ca3382"
      },
      "outputs": [
        {
          "output_type": "execute_result",
          "data": {
            "text/plain": [
              "{0: 'The Obnoxious Teens', 1: 'The Shopper-for-Hire', 2: 'The Prepper'}"
            ]
          },
          "metadata": {},
          "execution_count": 45
        }
      ],
      "source": [
        "# Creating an empty dictionary again\n",
        "map_segment_id_to_name = {}\n",
        "\n",
        "map_segment_id_to_name = {\n",
        "    map_segment_name_to_id[name]: name for name in map_segment_name_to_id\n",
        "}\n",
        "map_segment_id_to_name"
      ]
    },
    {
      "cell_type": "code",
      "execution_count": null,
      "metadata": {
        "id": "Fy8gvCZu17d6"
      },
      "outputs": [],
      "source": [
        "# Or, if you prefer, the step-by-step way:\n",
        "map_segment_id_to_name = {}"
      ]
    },
    {
      "cell_type": "code",
      "execution_count": null,
      "metadata": {
        "colab": {
          "base_uri": "https://localhost:8080/"
        },
        "id": "62Hrkoaw2Zh-",
        "outputId": "3deb566e-e778-4a21-a36c-531084de6263"
      },
      "outputs": [
        {
          "output_type": "execute_result",
          "data": {
            "text/plain": [
              "dict_items([('The Obnoxious Teens', 0), ('The Shopper-for-Hire', 1), ('The Prepper', 2)])"
            ]
          },
          "metadata": {},
          "execution_count": 47
        }
      ],
      "source": [
        "map_segment_name_to_id.items()"
      ]
    },
    {
      "cell_type": "code",
      "execution_count": null,
      "metadata": {
        "colab": {
          "base_uri": "https://localhost:8080/"
        },
        "id": "TPNf-q1B2eCB",
        "outputId": "696d4ce9-27e6-45c1-ec59-36af377a8f0e"
      },
      "outputs": [
        {
          "output_type": "execute_result",
          "data": {
            "text/plain": [
              "{0: 'The Obnoxious Teens', 1: 'The Shopper-for-Hire', 2: 'The Prepper'}"
            ]
          },
          "metadata": {},
          "execution_count": 48
        }
      ],
      "source": [
        "# So, mapping them after looking at the contents\n",
        "for name, id in map_segment_name_to_id.items():\n",
        "    map_segment_id_to_name[id] = name\n",
        "map_segment_id_to_name\n",
        "\n",
        "# Again, the same result."
      ]
    },
    {
      "cell_type": "markdown",
      "metadata": {
        "id": "4k0gYng12r2K"
      },
      "source": [
        "## **Now let us apply our mapping of segments to numbers to our original data (adding a new column):**"
      ]
    },
    {
      "cell_type": "markdown",
      "source": [
        "**Now**, we create a new feature/column such that we have segment_id's."
      ],
      "metadata": {
        "id": "7sgED--ZD5_L"
      }
    },
    {
      "cell_type": "code",
      "execution_count": null,
      "metadata": {
        "id": "9U_KXJwv2zmp"
      },
      "outputs": [],
      "source": [
        "# Here, we create a new column using our previously constructed dictionary\n",
        "data[\"segment_id\"] = data[\"segment_name\"].map(map_segment_name_to_id)"
      ]
    },
    {
      "cell_type": "code",
      "execution_count": null,
      "metadata": {
        "colab": {
          "base_uri": "https://localhost:8080/",
          "height": 353
        },
        "id": "5iQAhi173Fie",
        "outputId": "27180c59-0b12-48ab-e6e4-6a216d09c8b0"
      },
      "outputs": [
        {
          "output_type": "execute_result",
          "data": {
            "text/plain": [
              "    shopper_id  average_revenue  average_basket_size  fraction_canned_food  \\\n",
              "0  shopper_000       141.817975             3.541991              0.165028   \n",
              "1  shopper_001       144.396016             3.860022              0.163544   \n",
              "2  shopper_002       130.580378             3.761713              0.149754   \n",
              "3  shopper_003       167.258689             3.555836              0.145920   \n",
              "4  shopper_004       144.925715             4.021508              0.170981   \n",
              "\n",
              "   fraction_national_brands         segment_name  is_cherry_picker  segment_id  \n",
              "0                  0.077541  The Obnoxious Teens                 0           0  \n",
              "1                  0.069220  The Obnoxious Teens                 1           0  \n",
              "2                  0.067993  The Obnoxious Teens                 0           0  \n",
              "3                  0.067840  The Obnoxious Teens                 0           0  \n",
              "4                  0.078963  The Obnoxious Teens                 0           0  "
            ],
            "text/html": [
              "\n",
              "  <div id=\"df-341f6568-4b75-4d91-b74e-a36930e5b38b\">\n",
              "    <div class=\"colab-df-container\">\n",
              "      <div>\n",
              "<style scoped>\n",
              "    .dataframe tbody tr th:only-of-type {\n",
              "        vertical-align: middle;\n",
              "    }\n",
              "\n",
              "    .dataframe tbody tr th {\n",
              "        vertical-align: top;\n",
              "    }\n",
              "\n",
              "    .dataframe thead th {\n",
              "        text-align: right;\n",
              "    }\n",
              "</style>\n",
              "<table border=\"1\" class=\"dataframe\">\n",
              "  <thead>\n",
              "    <tr style=\"text-align: right;\">\n",
              "      <th></th>\n",
              "      <th>shopper_id</th>\n",
              "      <th>average_revenue</th>\n",
              "      <th>average_basket_size</th>\n",
              "      <th>fraction_canned_food</th>\n",
              "      <th>fraction_national_brands</th>\n",
              "      <th>segment_name</th>\n",
              "      <th>is_cherry_picker</th>\n",
              "      <th>segment_id</th>\n",
              "    </tr>\n",
              "  </thead>\n",
              "  <tbody>\n",
              "    <tr>\n",
              "      <th>0</th>\n",
              "      <td>shopper_000</td>\n",
              "      <td>141.817975</td>\n",
              "      <td>3.541991</td>\n",
              "      <td>0.165028</td>\n",
              "      <td>0.077541</td>\n",
              "      <td>The Obnoxious Teens</td>\n",
              "      <td>0</td>\n",
              "      <td>0</td>\n",
              "    </tr>\n",
              "    <tr>\n",
              "      <th>1</th>\n",
              "      <td>shopper_001</td>\n",
              "      <td>144.396016</td>\n",
              "      <td>3.860022</td>\n",
              "      <td>0.163544</td>\n",
              "      <td>0.069220</td>\n",
              "      <td>The Obnoxious Teens</td>\n",
              "      <td>1</td>\n",
              "      <td>0</td>\n",
              "    </tr>\n",
              "    <tr>\n",
              "      <th>2</th>\n",
              "      <td>shopper_002</td>\n",
              "      <td>130.580378</td>\n",
              "      <td>3.761713</td>\n",
              "      <td>0.149754</td>\n",
              "      <td>0.067993</td>\n",
              "      <td>The Obnoxious Teens</td>\n",
              "      <td>0</td>\n",
              "      <td>0</td>\n",
              "    </tr>\n",
              "    <tr>\n",
              "      <th>3</th>\n",
              "      <td>shopper_003</td>\n",
              "      <td>167.258689</td>\n",
              "      <td>3.555836</td>\n",
              "      <td>0.145920</td>\n",
              "      <td>0.067840</td>\n",
              "      <td>The Obnoxious Teens</td>\n",
              "      <td>0</td>\n",
              "      <td>0</td>\n",
              "    </tr>\n",
              "    <tr>\n",
              "      <th>4</th>\n",
              "      <td>shopper_004</td>\n",
              "      <td>144.925715</td>\n",
              "      <td>4.021508</td>\n",
              "      <td>0.170981</td>\n",
              "      <td>0.078963</td>\n",
              "      <td>The Obnoxious Teens</td>\n",
              "      <td>0</td>\n",
              "      <td>0</td>\n",
              "    </tr>\n",
              "  </tbody>\n",
              "</table>\n",
              "</div>\n",
              "      <button class=\"colab-df-convert\" onclick=\"convertToInteractive('df-341f6568-4b75-4d91-b74e-a36930e5b38b')\"\n",
              "              title=\"Convert this dataframe to an interactive table.\"\n",
              "              style=\"display:none;\">\n",
              "        \n",
              "  <svg xmlns=\"http://www.w3.org/2000/svg\" height=\"24px\"viewBox=\"0 0 24 24\"\n",
              "       width=\"24px\">\n",
              "    <path d=\"M0 0h24v24H0V0z\" fill=\"none\"/>\n",
              "    <path d=\"M18.56 5.44l.94 2.06.94-2.06 2.06-.94-2.06-.94-.94-2.06-.94 2.06-2.06.94zm-11 1L8.5 8.5l.94-2.06 2.06-.94-2.06-.94L8.5 2.5l-.94 2.06-2.06.94zm10 10l.94 2.06.94-2.06 2.06-.94-2.06-.94-.94-2.06-.94 2.06-2.06.94z\"/><path d=\"M17.41 7.96l-1.37-1.37c-.4-.4-.92-.59-1.43-.59-.52 0-1.04.2-1.43.59L10.3 9.45l-7.72 7.72c-.78.78-.78 2.05 0 2.83L4 21.41c.39.39.9.59 1.41.59.51 0 1.02-.2 1.41-.59l7.78-7.78 2.81-2.81c.8-.78.8-2.07 0-2.86zM5.41 20L4 18.59l7.72-7.72 1.47 1.35L5.41 20z\"/>\n",
              "  </svg>\n",
              "      </button>\n",
              "      \n",
              "  <style>\n",
              "    .colab-df-container {\n",
              "      display:flex;\n",
              "      flex-wrap:wrap;\n",
              "      gap: 12px;\n",
              "    }\n",
              "\n",
              "    .colab-df-convert {\n",
              "      background-color: #E8F0FE;\n",
              "      border: none;\n",
              "      border-radius: 50%;\n",
              "      cursor: pointer;\n",
              "      display: none;\n",
              "      fill: #1967D2;\n",
              "      height: 32px;\n",
              "      padding: 0 0 0 0;\n",
              "      width: 32px;\n",
              "    }\n",
              "\n",
              "    .colab-df-convert:hover {\n",
              "      background-color: #E2EBFA;\n",
              "      box-shadow: 0px 1px 2px rgba(60, 64, 67, 0.3), 0px 1px 3px 1px rgba(60, 64, 67, 0.15);\n",
              "      fill: #174EA6;\n",
              "    }\n",
              "\n",
              "    [theme=dark] .colab-df-convert {\n",
              "      background-color: #3B4455;\n",
              "      fill: #D2E3FC;\n",
              "    }\n",
              "\n",
              "    [theme=dark] .colab-df-convert:hover {\n",
              "      background-color: #434B5C;\n",
              "      box-shadow: 0px 1px 3px 1px rgba(0, 0, 0, 0.15);\n",
              "      filter: drop-shadow(0px 1px 2px rgba(0, 0, 0, 0.3));\n",
              "      fill: #FFFFFF;\n",
              "    }\n",
              "  </style>\n",
              "\n",
              "      <script>\n",
              "        const buttonEl =\n",
              "          document.querySelector('#df-341f6568-4b75-4d91-b74e-a36930e5b38b button.colab-df-convert');\n",
              "        buttonEl.style.display =\n",
              "          google.colab.kernel.accessAllowed ? 'block' : 'none';\n",
              "\n",
              "        async function convertToInteractive(key) {\n",
              "          const element = document.querySelector('#df-341f6568-4b75-4d91-b74e-a36930e5b38b');\n",
              "          const dataTable =\n",
              "            await google.colab.kernel.invokeFunction('convertToInteractive',\n",
              "                                                     [key], {});\n",
              "          if (!dataTable) return;\n",
              "\n",
              "          const docLinkHtml = 'Like what you see? Visit the ' +\n",
              "            '<a target=\"_blank\" href=https://colab.research.google.com/notebooks/data_table.ipynb>data table notebook</a>'\n",
              "            + ' to learn more about interactive tables.';\n",
              "          element.innerHTML = '';\n",
              "          dataTable['output_type'] = 'display_data';\n",
              "          await google.colab.output.renderOutput(dataTable, element);\n",
              "          const docLink = document.createElement('div');\n",
              "          docLink.innerHTML = docLinkHtml;\n",
              "          element.appendChild(docLink);\n",
              "        }\n",
              "      </script>\n",
              "    </div>\n",
              "  </div>\n",
              "  "
            ]
          },
          "metadata": {},
          "execution_count": 50
        }
      ],
      "source": [
        "# Lets look at a few rows again:\n",
        "data.head()"
      ]
    },
    {
      "cell_type": "markdown",
      "metadata": {
        "id": "ga83OUvA4g1z"
      },
      "source": [
        "# **Defining the feature variables**\n",
        "\n",
        "We only consider the variables we will use for further analysis:\n",
        "* `fraction_canned_food`: Fraction of bought items that are canned food.\n",
        "* `fraction_national_brand`: Fraction of bought items that are manufactured by national brands such as Coca-Cola.\n",
        "* `average_revenue`: Average monthly revenue.\n",
        "* `average_basket_size:` Average basket size per shopping trip. \n"
      ]
    },
    {
      "cell_type": "code",
      "execution_count": null,
      "metadata": {
        "id": "2l24VTVh4ppu"
      },
      "outputs": [],
      "source": [
        "# Lets put all our variables into one variable:\n",
        "feature_variables = [\n",
        "    \"fraction_canned_food\",\n",
        "    \"fraction_national_brands\",\n",
        "    \"average_revenue\",\n",
        "    \"average_basket_size\",\n",
        "]"
      ]
    },
    {
      "cell_type": "markdown",
      "metadata": {
        "id": "N684a6Yz53PW"
      },
      "source": [
        "# Let's start with some **EDA (Exploratory Data Analysis)**"
      ]
    },
    {
      "cell_type": "markdown",
      "metadata": {
        "id": "vQGdRRIe6FxU"
      },
      "source": [
        "## **Median:**\n",
        "\n",
        "The median is a value separating the higher half from the lower half of a data sample, a population or a probability distribution. For a data set, it may be thought of as \"the middle\" value."
      ]
    },
    {
      "cell_type": "code",
      "execution_count": null,
      "metadata": {
        "colab": {
          "base_uri": "https://localhost:8080/"
        },
        "id": "oSicXCjM6Fig",
        "outputId": "65facf29-c545-45b5-c4fc-f54bde84e609"
      },
      "outputs": [
        {
          "output_type": "stream",
          "name": "stdout",
          "text": [
            "The median is: 4.0\n"
          ]
        }
      ],
      "source": [
        "values = [1, 2, 3, 4, 4, 4, 4, 4, 4, 10, 20, 100, 1000]\n",
        "print(f\"The median is: {np.median(values)}\")"
      ]
    },
    {
      "cell_type": "markdown",
      "metadata": {
        "id": "tGoHID7i7GEw"
      },
      "source": [
        "## **Mean:** \n",
        "\n",
        "The arithmetic mean (or simply mean) of a sample, $x_1, x_2, ..., x_n$, usually denoted by $\\bar{x}$, is the sum of the sampled values divided by the number of items in the sample:\n",
        "\n",
        "$\\bar{x} = \\frac{1}{n}\\sum_{i = 1}^{n}\\frac{x_1 + x_2 + ... + x_n}{n}$"
      ]
    },
    {
      "cell_type": "code",
      "execution_count": null,
      "metadata": {
        "colab": {
          "base_uri": "https://localhost:8080/"
        },
        "id": "EIOURSjj705z",
        "outputId": "3448901f-d5df-4fd6-cd9a-5379cc9c5b7e"
      },
      "outputs": [
        {
          "output_type": "stream",
          "name": "stdout",
          "text": [
            "The median is: 89.23076923076923\n"
          ]
        }
      ],
      "source": [
        "values = [1, 2, 3, 4, 4, 4, 4, 4, 4, 10, 20, 100, 1000]\n",
        "print(f\"The median is: {np.mean(values)}\")"
      ]
    },
    {
      "cell_type": "markdown",
      "metadata": {
        "id": "k4iNoEdw6x1D"
      },
      "source": [
        "**Now**, for our shopper data example:"
      ]
    },
    {
      "cell_type": "code",
      "execution_count": null,
      "metadata": {
        "colab": {
          "base_uri": "https://localhost:8080/",
          "height": 251
        },
        "id": "yWZxoS_-6xKl",
        "outputId": "90c10d84-9b80-484d-fb65-dcf4484bc895"
      },
      "outputs": [
        {
          "output_type": "execute_result",
          "data": {
            "text/plain": [
              "                      fraction_canned_food  fraction_national_brands  \\\n",
              "segment_name                                                           \n",
              "The Obnoxious Teens               0.165538                  0.074686   \n",
              "The Prepper                       0.218525                  0.065292   \n",
              "The Shopper-for-Hire              0.197005                  0.062725   \n",
              "\n",
              "                      average_revenue  average_basket_size  \n",
              "segment_name                                                \n",
              "The Obnoxious Teens        144.311948             4.125141  \n",
              "The Prepper                554.789159            40.089668  \n",
              "The Shopper-for-Hire       426.851005            26.463476  "
            ],
            "text/html": [
              "\n",
              "  <div id=\"df-301bcc49-b59b-47e3-a25b-5cd97229d5f9\">\n",
              "    <div class=\"colab-df-container\">\n",
              "      <div>\n",
              "<style scoped>\n",
              "    .dataframe tbody tr th:only-of-type {\n",
              "        vertical-align: middle;\n",
              "    }\n",
              "\n",
              "    .dataframe tbody tr th {\n",
              "        vertical-align: top;\n",
              "    }\n",
              "\n",
              "    .dataframe thead th {\n",
              "        text-align: right;\n",
              "    }\n",
              "</style>\n",
              "<table border=\"1\" class=\"dataframe\">\n",
              "  <thead>\n",
              "    <tr style=\"text-align: right;\">\n",
              "      <th></th>\n",
              "      <th>fraction_canned_food</th>\n",
              "      <th>fraction_national_brands</th>\n",
              "      <th>average_revenue</th>\n",
              "      <th>average_basket_size</th>\n",
              "    </tr>\n",
              "    <tr>\n",
              "      <th>segment_name</th>\n",
              "      <th></th>\n",
              "      <th></th>\n",
              "      <th></th>\n",
              "      <th></th>\n",
              "    </tr>\n",
              "  </thead>\n",
              "  <tbody>\n",
              "    <tr>\n",
              "      <th>The Obnoxious Teens</th>\n",
              "      <td>0.165538</td>\n",
              "      <td>0.074686</td>\n",
              "      <td>144.311948</td>\n",
              "      <td>4.125141</td>\n",
              "    </tr>\n",
              "    <tr>\n",
              "      <th>The Prepper</th>\n",
              "      <td>0.218525</td>\n",
              "      <td>0.065292</td>\n",
              "      <td>554.789159</td>\n",
              "      <td>40.089668</td>\n",
              "    </tr>\n",
              "    <tr>\n",
              "      <th>The Shopper-for-Hire</th>\n",
              "      <td>0.197005</td>\n",
              "      <td>0.062725</td>\n",
              "      <td>426.851005</td>\n",
              "      <td>26.463476</td>\n",
              "    </tr>\n",
              "  </tbody>\n",
              "</table>\n",
              "</div>\n",
              "      <button class=\"colab-df-convert\" onclick=\"convertToInteractive('df-301bcc49-b59b-47e3-a25b-5cd97229d5f9')\"\n",
              "              title=\"Convert this dataframe to an interactive table.\"\n",
              "              style=\"display:none;\">\n",
              "        \n",
              "  <svg xmlns=\"http://www.w3.org/2000/svg\" height=\"24px\"viewBox=\"0 0 24 24\"\n",
              "       width=\"24px\">\n",
              "    <path d=\"M0 0h24v24H0V0z\" fill=\"none\"/>\n",
              "    <path d=\"M18.56 5.44l.94 2.06.94-2.06 2.06-.94-2.06-.94-.94-2.06-.94 2.06-2.06.94zm-11 1L8.5 8.5l.94-2.06 2.06-.94-2.06-.94L8.5 2.5l-.94 2.06-2.06.94zm10 10l.94 2.06.94-2.06 2.06-.94-2.06-.94-.94-2.06-.94 2.06-2.06.94z\"/><path d=\"M17.41 7.96l-1.37-1.37c-.4-.4-.92-.59-1.43-.59-.52 0-1.04.2-1.43.59L10.3 9.45l-7.72 7.72c-.78.78-.78 2.05 0 2.83L4 21.41c.39.39.9.59 1.41.59.51 0 1.02-.2 1.41-.59l7.78-7.78 2.81-2.81c.8-.78.8-2.07 0-2.86zM5.41 20L4 18.59l7.72-7.72 1.47 1.35L5.41 20z\"/>\n",
              "  </svg>\n",
              "      </button>\n",
              "      \n",
              "  <style>\n",
              "    .colab-df-container {\n",
              "      display:flex;\n",
              "      flex-wrap:wrap;\n",
              "      gap: 12px;\n",
              "    }\n",
              "\n",
              "    .colab-df-convert {\n",
              "      background-color: #E8F0FE;\n",
              "      border: none;\n",
              "      border-radius: 50%;\n",
              "      cursor: pointer;\n",
              "      display: none;\n",
              "      fill: #1967D2;\n",
              "      height: 32px;\n",
              "      padding: 0 0 0 0;\n",
              "      width: 32px;\n",
              "    }\n",
              "\n",
              "    .colab-df-convert:hover {\n",
              "      background-color: #E2EBFA;\n",
              "      box-shadow: 0px 1px 2px rgba(60, 64, 67, 0.3), 0px 1px 3px 1px rgba(60, 64, 67, 0.15);\n",
              "      fill: #174EA6;\n",
              "    }\n",
              "\n",
              "    [theme=dark] .colab-df-convert {\n",
              "      background-color: #3B4455;\n",
              "      fill: #D2E3FC;\n",
              "    }\n",
              "\n",
              "    [theme=dark] .colab-df-convert:hover {\n",
              "      background-color: #434B5C;\n",
              "      box-shadow: 0px 1px 3px 1px rgba(0, 0, 0, 0.15);\n",
              "      filter: drop-shadow(0px 1px 2px rgba(0, 0, 0, 0.3));\n",
              "      fill: #FFFFFF;\n",
              "    }\n",
              "  </style>\n",
              "\n",
              "      <script>\n",
              "        const buttonEl =\n",
              "          document.querySelector('#df-301bcc49-b59b-47e3-a25b-5cd97229d5f9 button.colab-df-convert');\n",
              "        buttonEl.style.display =\n",
              "          google.colab.kernel.accessAllowed ? 'block' : 'none';\n",
              "\n",
              "        async function convertToInteractive(key) {\n",
              "          const element = document.querySelector('#df-301bcc49-b59b-47e3-a25b-5cd97229d5f9');\n",
              "          const dataTable =\n",
              "            await google.colab.kernel.invokeFunction('convertToInteractive',\n",
              "                                                     [key], {});\n",
              "          if (!dataTable) return;\n",
              "\n",
              "          const docLinkHtml = 'Like what you see? Visit the ' +\n",
              "            '<a target=\"_blank\" href=https://colab.research.google.com/notebooks/data_table.ipynb>data table notebook</a>'\n",
              "            + ' to learn more about interactive tables.';\n",
              "          element.innerHTML = '';\n",
              "          dataTable['output_type'] = 'display_data';\n",
              "          await google.colab.output.renderOutput(dataTable, element);\n",
              "          const docLink = document.createElement('div');\n",
              "          docLink.innerHTML = docLinkHtml;\n",
              "          element.appendChild(docLink);\n",
              "        }\n",
              "      </script>\n",
              "    </div>\n",
              "  </div>\n",
              "  "
            ]
          },
          "metadata": {},
          "execution_count": 54
        }
      ],
      "source": [
        "data.groupby(\"segment_name\")[feature_variables].median()"
      ]
    },
    {
      "cell_type": "code",
      "execution_count": null,
      "metadata": {
        "colab": {
          "base_uri": "https://localhost:8080/",
          "height": 251
        },
        "id": "cAWU5nWE527y",
        "outputId": "14413cd7-9362-4f04-8c02-822a6c490791"
      },
      "outputs": [
        {
          "output_type": "execute_result",
          "data": {
            "text/plain": [
              "                      fraction_canned_food  fraction_national_brands  \\\n",
              "segment_name                                                           \n",
              "The Obnoxious Teens               0.166316                  0.076007   \n",
              "The Prepper                       0.219397                  0.065914   \n",
              "The Shopper-for-Hire              0.197746                  0.061723   \n",
              "\n",
              "                      average_revenue  average_basket_size  \n",
              "segment_name                                                \n",
              "The Obnoxious Teens        146.388560             4.809775  \n",
              "The Prepper                560.418395            40.477877  \n",
              "The Shopper-for-Hire       428.586112            26.366364  "
            ],
            "text/html": [
              "\n",
              "  <div id=\"df-94da8e1e-34e6-4b92-8ac4-e1ea16ed8da5\">\n",
              "    <div class=\"colab-df-container\">\n",
              "      <div>\n",
              "<style scoped>\n",
              "    .dataframe tbody tr th:only-of-type {\n",
              "        vertical-align: middle;\n",
              "    }\n",
              "\n",
              "    .dataframe tbody tr th {\n",
              "        vertical-align: top;\n",
              "    }\n",
              "\n",
              "    .dataframe thead th {\n",
              "        text-align: right;\n",
              "    }\n",
              "</style>\n",
              "<table border=\"1\" class=\"dataframe\">\n",
              "  <thead>\n",
              "    <tr style=\"text-align: right;\">\n",
              "      <th></th>\n",
              "      <th>fraction_canned_food</th>\n",
              "      <th>fraction_national_brands</th>\n",
              "      <th>average_revenue</th>\n",
              "      <th>average_basket_size</th>\n",
              "    </tr>\n",
              "    <tr>\n",
              "      <th>segment_name</th>\n",
              "      <th></th>\n",
              "      <th></th>\n",
              "      <th></th>\n",
              "      <th></th>\n",
              "    </tr>\n",
              "  </thead>\n",
              "  <tbody>\n",
              "    <tr>\n",
              "      <th>The Obnoxious Teens</th>\n",
              "      <td>0.166316</td>\n",
              "      <td>0.076007</td>\n",
              "      <td>146.388560</td>\n",
              "      <td>4.809775</td>\n",
              "    </tr>\n",
              "    <tr>\n",
              "      <th>The Prepper</th>\n",
              "      <td>0.219397</td>\n",
              "      <td>0.065914</td>\n",
              "      <td>560.418395</td>\n",
              "      <td>40.477877</td>\n",
              "    </tr>\n",
              "    <tr>\n",
              "      <th>The Shopper-for-Hire</th>\n",
              "      <td>0.197746</td>\n",
              "      <td>0.061723</td>\n",
              "      <td>428.586112</td>\n",
              "      <td>26.366364</td>\n",
              "    </tr>\n",
              "  </tbody>\n",
              "</table>\n",
              "</div>\n",
              "      <button class=\"colab-df-convert\" onclick=\"convertToInteractive('df-94da8e1e-34e6-4b92-8ac4-e1ea16ed8da5')\"\n",
              "              title=\"Convert this dataframe to an interactive table.\"\n",
              "              style=\"display:none;\">\n",
              "        \n",
              "  <svg xmlns=\"http://www.w3.org/2000/svg\" height=\"24px\"viewBox=\"0 0 24 24\"\n",
              "       width=\"24px\">\n",
              "    <path d=\"M0 0h24v24H0V0z\" fill=\"none\"/>\n",
              "    <path d=\"M18.56 5.44l.94 2.06.94-2.06 2.06-.94-2.06-.94-.94-2.06-.94 2.06-2.06.94zm-11 1L8.5 8.5l.94-2.06 2.06-.94-2.06-.94L8.5 2.5l-.94 2.06-2.06.94zm10 10l.94 2.06.94-2.06 2.06-.94-2.06-.94-.94-2.06-.94 2.06-2.06.94z\"/><path d=\"M17.41 7.96l-1.37-1.37c-.4-.4-.92-.59-1.43-.59-.52 0-1.04.2-1.43.59L10.3 9.45l-7.72 7.72c-.78.78-.78 2.05 0 2.83L4 21.41c.39.39.9.59 1.41.59.51 0 1.02-.2 1.41-.59l7.78-7.78 2.81-2.81c.8-.78.8-2.07 0-2.86zM5.41 20L4 18.59l7.72-7.72 1.47 1.35L5.41 20z\"/>\n",
              "  </svg>\n",
              "      </button>\n",
              "      \n",
              "  <style>\n",
              "    .colab-df-container {\n",
              "      display:flex;\n",
              "      flex-wrap:wrap;\n",
              "      gap: 12px;\n",
              "    }\n",
              "\n",
              "    .colab-df-convert {\n",
              "      background-color: #E8F0FE;\n",
              "      border: none;\n",
              "      border-radius: 50%;\n",
              "      cursor: pointer;\n",
              "      display: none;\n",
              "      fill: #1967D2;\n",
              "      height: 32px;\n",
              "      padding: 0 0 0 0;\n",
              "      width: 32px;\n",
              "    }\n",
              "\n",
              "    .colab-df-convert:hover {\n",
              "      background-color: #E2EBFA;\n",
              "      box-shadow: 0px 1px 2px rgba(60, 64, 67, 0.3), 0px 1px 3px 1px rgba(60, 64, 67, 0.15);\n",
              "      fill: #174EA6;\n",
              "    }\n",
              "\n",
              "    [theme=dark] .colab-df-convert {\n",
              "      background-color: #3B4455;\n",
              "      fill: #D2E3FC;\n",
              "    }\n",
              "\n",
              "    [theme=dark] .colab-df-convert:hover {\n",
              "      background-color: #434B5C;\n",
              "      box-shadow: 0px 1px 3px 1px rgba(0, 0, 0, 0.15);\n",
              "      filter: drop-shadow(0px 1px 2px rgba(0, 0, 0, 0.3));\n",
              "      fill: #FFFFFF;\n",
              "    }\n",
              "  </style>\n",
              "\n",
              "      <script>\n",
              "        const buttonEl =\n",
              "          document.querySelector('#df-94da8e1e-34e6-4b92-8ac4-e1ea16ed8da5 button.colab-df-convert');\n",
              "        buttonEl.style.display =\n",
              "          google.colab.kernel.accessAllowed ? 'block' : 'none';\n",
              "\n",
              "        async function convertToInteractive(key) {\n",
              "          const element = document.querySelector('#df-94da8e1e-34e6-4b92-8ac4-e1ea16ed8da5');\n",
              "          const dataTable =\n",
              "            await google.colab.kernel.invokeFunction('convertToInteractive',\n",
              "                                                     [key], {});\n",
              "          if (!dataTable) return;\n",
              "\n",
              "          const docLinkHtml = 'Like what you see? Visit the ' +\n",
              "            '<a target=\"_blank\" href=https://colab.research.google.com/notebooks/data_table.ipynb>data table notebook</a>'\n",
              "            + ' to learn more about interactive tables.';\n",
              "          element.innerHTML = '';\n",
              "          dataTable['output_type'] = 'display_data';\n",
              "          await google.colab.output.renderOutput(dataTable, element);\n",
              "          const docLink = document.createElement('div');\n",
              "          docLink.innerHTML = docLinkHtml;\n",
              "          element.appendChild(docLink);\n",
              "        }\n",
              "      </script>\n",
              "    </div>\n",
              "  </div>\n",
              "  "
            ]
          },
          "metadata": {},
          "execution_count": 55
        }
      ],
      "source": [
        "data.groupby(\"segment_name\")[feature_variables].mean()"
      ]
    },
    {
      "cell_type": "markdown",
      "metadata": {
        "id": "tE5ApjuC9zwS"
      },
      "source": [
        "## **Variance:**\n",
        "The variance of a random variable $X$ is the expected value of the squared deviation from the mean of X: $E(X) = \\mu$\n",
        "\n",
        "$ \\sigma^{2} = Var(X) = E[(X - E(X)]^{2} = E[(X - \\mu]^{2} = ∫_{-\\infty}^{\\infty}(x - \\mu)^{2} \\cdot f(x)dx$\n",
        "\n",
        "If the generator of random variable $X$ is discrete with probability mass function $x_1 ↦ p_1, x_2 ↦ p_2, ..., x_n ↦ p_n$, then:\n",
        "\n",
        "$\\sigma^{2} = Var(X) = \\sum_{i = 1}^{n}p_i \\cdot (x_i - \\mu)^{2}$"
      ]
    },
    {
      "cell_type": "code",
      "execution_count": null,
      "metadata": {
        "colab": {
          "base_uri": "https://localhost:8080/",
          "height": 251
        },
        "id": "N93tXchT9HDD",
        "outputId": "a7b9152a-6c45-4f38-a09e-95d53310e4bd"
      },
      "outputs": [
        {
          "output_type": "execute_result",
          "data": {
            "text/plain": [
              "                      fraction_canned_food  fraction_national_brands  \\\n",
              "segment_name                                                           \n",
              "The Obnoxious Teens               0.000156                  0.000071   \n",
              "The Prepper                       0.000468                  0.000058   \n",
              "The Shopper-for-Hire              0.000352                  0.000051   \n",
              "\n",
              "                      average_revenue  average_basket_size  \n",
              "segment_name                                                \n",
              "The Obnoxious Teens        437.857719             4.154882  \n",
              "The Prepper               5857.393119            41.576064  \n",
              "The Shopper-for-Hire      3597.623169            20.124759  "
            ],
            "text/html": [
              "\n",
              "  <div id=\"df-94825139-9767-445e-a9c6-fd6fb6ed2923\">\n",
              "    <div class=\"colab-df-container\">\n",
              "      <div>\n",
              "<style scoped>\n",
              "    .dataframe tbody tr th:only-of-type {\n",
              "        vertical-align: middle;\n",
              "    }\n",
              "\n",
              "    .dataframe tbody tr th {\n",
              "        vertical-align: top;\n",
              "    }\n",
              "\n",
              "    .dataframe thead th {\n",
              "        text-align: right;\n",
              "    }\n",
              "</style>\n",
              "<table border=\"1\" class=\"dataframe\">\n",
              "  <thead>\n",
              "    <tr style=\"text-align: right;\">\n",
              "      <th></th>\n",
              "      <th>fraction_canned_food</th>\n",
              "      <th>fraction_national_brands</th>\n",
              "      <th>average_revenue</th>\n",
              "      <th>average_basket_size</th>\n",
              "    </tr>\n",
              "    <tr>\n",
              "      <th>segment_name</th>\n",
              "      <th></th>\n",
              "      <th></th>\n",
              "      <th></th>\n",
              "      <th></th>\n",
              "    </tr>\n",
              "  </thead>\n",
              "  <tbody>\n",
              "    <tr>\n",
              "      <th>The Obnoxious Teens</th>\n",
              "      <td>0.000156</td>\n",
              "      <td>0.000071</td>\n",
              "      <td>437.857719</td>\n",
              "      <td>4.154882</td>\n",
              "    </tr>\n",
              "    <tr>\n",
              "      <th>The Prepper</th>\n",
              "      <td>0.000468</td>\n",
              "      <td>0.000058</td>\n",
              "      <td>5857.393119</td>\n",
              "      <td>41.576064</td>\n",
              "    </tr>\n",
              "    <tr>\n",
              "      <th>The Shopper-for-Hire</th>\n",
              "      <td>0.000352</td>\n",
              "      <td>0.000051</td>\n",
              "      <td>3597.623169</td>\n",
              "      <td>20.124759</td>\n",
              "    </tr>\n",
              "  </tbody>\n",
              "</table>\n",
              "</div>\n",
              "      <button class=\"colab-df-convert\" onclick=\"convertToInteractive('df-94825139-9767-445e-a9c6-fd6fb6ed2923')\"\n",
              "              title=\"Convert this dataframe to an interactive table.\"\n",
              "              style=\"display:none;\">\n",
              "        \n",
              "  <svg xmlns=\"http://www.w3.org/2000/svg\" height=\"24px\"viewBox=\"0 0 24 24\"\n",
              "       width=\"24px\">\n",
              "    <path d=\"M0 0h24v24H0V0z\" fill=\"none\"/>\n",
              "    <path d=\"M18.56 5.44l.94 2.06.94-2.06 2.06-.94-2.06-.94-.94-2.06-.94 2.06-2.06.94zm-11 1L8.5 8.5l.94-2.06 2.06-.94-2.06-.94L8.5 2.5l-.94 2.06-2.06.94zm10 10l.94 2.06.94-2.06 2.06-.94-2.06-.94-.94-2.06-.94 2.06-2.06.94z\"/><path d=\"M17.41 7.96l-1.37-1.37c-.4-.4-.92-.59-1.43-.59-.52 0-1.04.2-1.43.59L10.3 9.45l-7.72 7.72c-.78.78-.78 2.05 0 2.83L4 21.41c.39.39.9.59 1.41.59.51 0 1.02-.2 1.41-.59l7.78-7.78 2.81-2.81c.8-.78.8-2.07 0-2.86zM5.41 20L4 18.59l7.72-7.72 1.47 1.35L5.41 20z\"/>\n",
              "  </svg>\n",
              "      </button>\n",
              "      \n",
              "  <style>\n",
              "    .colab-df-container {\n",
              "      display:flex;\n",
              "      flex-wrap:wrap;\n",
              "      gap: 12px;\n",
              "    }\n",
              "\n",
              "    .colab-df-convert {\n",
              "      background-color: #E8F0FE;\n",
              "      border: none;\n",
              "      border-radius: 50%;\n",
              "      cursor: pointer;\n",
              "      display: none;\n",
              "      fill: #1967D2;\n",
              "      height: 32px;\n",
              "      padding: 0 0 0 0;\n",
              "      width: 32px;\n",
              "    }\n",
              "\n",
              "    .colab-df-convert:hover {\n",
              "      background-color: #E2EBFA;\n",
              "      box-shadow: 0px 1px 2px rgba(60, 64, 67, 0.3), 0px 1px 3px 1px rgba(60, 64, 67, 0.15);\n",
              "      fill: #174EA6;\n",
              "    }\n",
              "\n",
              "    [theme=dark] .colab-df-convert {\n",
              "      background-color: #3B4455;\n",
              "      fill: #D2E3FC;\n",
              "    }\n",
              "\n",
              "    [theme=dark] .colab-df-convert:hover {\n",
              "      background-color: #434B5C;\n",
              "      box-shadow: 0px 1px 3px 1px rgba(0, 0, 0, 0.15);\n",
              "      filter: drop-shadow(0px 1px 2px rgba(0, 0, 0, 0.3));\n",
              "      fill: #FFFFFF;\n",
              "    }\n",
              "  </style>\n",
              "\n",
              "      <script>\n",
              "        const buttonEl =\n",
              "          document.querySelector('#df-94825139-9767-445e-a9c6-fd6fb6ed2923 button.colab-df-convert');\n",
              "        buttonEl.style.display =\n",
              "          google.colab.kernel.accessAllowed ? 'block' : 'none';\n",
              "\n",
              "        async function convertToInteractive(key) {\n",
              "          const element = document.querySelector('#df-94825139-9767-445e-a9c6-fd6fb6ed2923');\n",
              "          const dataTable =\n",
              "            await google.colab.kernel.invokeFunction('convertToInteractive',\n",
              "                                                     [key], {});\n",
              "          if (!dataTable) return;\n",
              "\n",
              "          const docLinkHtml = 'Like what you see? Visit the ' +\n",
              "            '<a target=\"_blank\" href=https://colab.research.google.com/notebooks/data_table.ipynb>data table notebook</a>'\n",
              "            + ' to learn more about interactive tables.';\n",
              "          element.innerHTML = '';\n",
              "          dataTable['output_type'] = 'display_data';\n",
              "          await google.colab.output.renderOutput(dataTable, element);\n",
              "          const docLink = document.createElement('div');\n",
              "          docLink.innerHTML = docLinkHtml;\n",
              "          element.appendChild(docLink);\n",
              "        }\n",
              "      </script>\n",
              "    </div>\n",
              "  </div>\n",
              "  "
            ]
          },
          "metadata": {},
          "execution_count": 56
        }
      ],
      "source": [
        "# The variance:\n",
        "data.groupby(\"segment_name\")[feature_variables].var()"
      ]
    },
    {
      "cell_type": "code",
      "execution_count": null,
      "metadata": {
        "colab": {
          "base_uri": "https://localhost:8080/",
          "height": 251
        },
        "id": "-aNht3dU_p1i",
        "outputId": "5cbbf04f-1f20-4a6a-d102-5e1c2391bb1e"
      },
      "outputs": [
        {
          "output_type": "execute_result",
          "data": {
            "text/plain": [
              "                      fraction_canned_food  fraction_national_brands  \\\n",
              "segment_name                                                           \n",
              "The Obnoxious Teens               0.000156                  0.000071   \n",
              "The Prepper                       0.000468                  0.000058   \n",
              "The Shopper-for-Hire              0.000352                  0.000051   \n",
              "\n",
              "                      average_revenue  average_basket_size  \n",
              "segment_name                                                \n",
              "The Obnoxious Teens        437.857719             4.154882  \n",
              "The Prepper               5857.393119            41.576064  \n",
              "The Shopper-for-Hire      3597.623169            20.124759  "
            ],
            "text/html": [
              "\n",
              "  <div id=\"df-e9e300bf-fcf3-494b-9b48-9af5f7dd4e2e\">\n",
              "    <div class=\"colab-df-container\">\n",
              "      <div>\n",
              "<style scoped>\n",
              "    .dataframe tbody tr th:only-of-type {\n",
              "        vertical-align: middle;\n",
              "    }\n",
              "\n",
              "    .dataframe tbody tr th {\n",
              "        vertical-align: top;\n",
              "    }\n",
              "\n",
              "    .dataframe thead th {\n",
              "        text-align: right;\n",
              "    }\n",
              "</style>\n",
              "<table border=\"1\" class=\"dataframe\">\n",
              "  <thead>\n",
              "    <tr style=\"text-align: right;\">\n",
              "      <th></th>\n",
              "      <th>fraction_canned_food</th>\n",
              "      <th>fraction_national_brands</th>\n",
              "      <th>average_revenue</th>\n",
              "      <th>average_basket_size</th>\n",
              "    </tr>\n",
              "    <tr>\n",
              "      <th>segment_name</th>\n",
              "      <th></th>\n",
              "      <th></th>\n",
              "      <th></th>\n",
              "      <th></th>\n",
              "    </tr>\n",
              "  </thead>\n",
              "  <tbody>\n",
              "    <tr>\n",
              "      <th>The Obnoxious Teens</th>\n",
              "      <td>0.000156</td>\n",
              "      <td>0.000071</td>\n",
              "      <td>437.857719</td>\n",
              "      <td>4.154882</td>\n",
              "    </tr>\n",
              "    <tr>\n",
              "      <th>The Prepper</th>\n",
              "      <td>0.000468</td>\n",
              "      <td>0.000058</td>\n",
              "      <td>5857.393119</td>\n",
              "      <td>41.576064</td>\n",
              "    </tr>\n",
              "    <tr>\n",
              "      <th>The Shopper-for-Hire</th>\n",
              "      <td>0.000352</td>\n",
              "      <td>0.000051</td>\n",
              "      <td>3597.623169</td>\n",
              "      <td>20.124759</td>\n",
              "    </tr>\n",
              "  </tbody>\n",
              "</table>\n",
              "</div>\n",
              "      <button class=\"colab-df-convert\" onclick=\"convertToInteractive('df-e9e300bf-fcf3-494b-9b48-9af5f7dd4e2e')\"\n",
              "              title=\"Convert this dataframe to an interactive table.\"\n",
              "              style=\"display:none;\">\n",
              "        \n",
              "  <svg xmlns=\"http://www.w3.org/2000/svg\" height=\"24px\"viewBox=\"0 0 24 24\"\n",
              "       width=\"24px\">\n",
              "    <path d=\"M0 0h24v24H0V0z\" fill=\"none\"/>\n",
              "    <path d=\"M18.56 5.44l.94 2.06.94-2.06 2.06-.94-2.06-.94-.94-2.06-.94 2.06-2.06.94zm-11 1L8.5 8.5l.94-2.06 2.06-.94-2.06-.94L8.5 2.5l-.94 2.06-2.06.94zm10 10l.94 2.06.94-2.06 2.06-.94-2.06-.94-.94-2.06-.94 2.06-2.06.94z\"/><path d=\"M17.41 7.96l-1.37-1.37c-.4-.4-.92-.59-1.43-.59-.52 0-1.04.2-1.43.59L10.3 9.45l-7.72 7.72c-.78.78-.78 2.05 0 2.83L4 21.41c.39.39.9.59 1.41.59.51 0 1.02-.2 1.41-.59l7.78-7.78 2.81-2.81c.8-.78.8-2.07 0-2.86zM5.41 20L4 18.59l7.72-7.72 1.47 1.35L5.41 20z\"/>\n",
              "  </svg>\n",
              "      </button>\n",
              "      \n",
              "  <style>\n",
              "    .colab-df-container {\n",
              "      display:flex;\n",
              "      flex-wrap:wrap;\n",
              "      gap: 12px;\n",
              "    }\n",
              "\n",
              "    .colab-df-convert {\n",
              "      background-color: #E8F0FE;\n",
              "      border: none;\n",
              "      border-radius: 50%;\n",
              "      cursor: pointer;\n",
              "      display: none;\n",
              "      fill: #1967D2;\n",
              "      height: 32px;\n",
              "      padding: 0 0 0 0;\n",
              "      width: 32px;\n",
              "    }\n",
              "\n",
              "    .colab-df-convert:hover {\n",
              "      background-color: #E2EBFA;\n",
              "      box-shadow: 0px 1px 2px rgba(60, 64, 67, 0.3), 0px 1px 3px 1px rgba(60, 64, 67, 0.15);\n",
              "      fill: #174EA6;\n",
              "    }\n",
              "\n",
              "    [theme=dark] .colab-df-convert {\n",
              "      background-color: #3B4455;\n",
              "      fill: #D2E3FC;\n",
              "    }\n",
              "\n",
              "    [theme=dark] .colab-df-convert:hover {\n",
              "      background-color: #434B5C;\n",
              "      box-shadow: 0px 1px 3px 1px rgba(0, 0, 0, 0.15);\n",
              "      filter: drop-shadow(0px 1px 2px rgba(0, 0, 0, 0.3));\n",
              "      fill: #FFFFFF;\n",
              "    }\n",
              "  </style>\n",
              "\n",
              "      <script>\n",
              "        const buttonEl =\n",
              "          document.querySelector('#df-e9e300bf-fcf3-494b-9b48-9af5f7dd4e2e button.colab-df-convert');\n",
              "        buttonEl.style.display =\n",
              "          google.colab.kernel.accessAllowed ? 'block' : 'none';\n",
              "\n",
              "        async function convertToInteractive(key) {\n",
              "          const element = document.querySelector('#df-e9e300bf-fcf3-494b-9b48-9af5f7dd4e2e');\n",
              "          const dataTable =\n",
              "            await google.colab.kernel.invokeFunction('convertToInteractive',\n",
              "                                                     [key], {});\n",
              "          if (!dataTable) return;\n",
              "\n",
              "          const docLinkHtml = 'Like what you see? Visit the ' +\n",
              "            '<a target=\"_blank\" href=https://colab.research.google.com/notebooks/data_table.ipynb>data table notebook</a>'\n",
              "            + ' to learn more about interactive tables.';\n",
              "          element.innerHTML = '';\n",
              "          dataTable['output_type'] = 'display_data';\n",
              "          await google.colab.output.renderOutput(dataTable, element);\n",
              "          const docLink = document.createElement('div');\n",
              "          docLink.innerHTML = docLinkHtml;\n",
              "          element.appendChild(docLink);\n",
              "        }\n",
              "      </script>\n",
              "    </div>\n",
              "  </div>\n",
              "  "
            ]
          },
          "metadata": {},
          "execution_count": 57
        }
      ],
      "source": [
        "# Equivalently, the standard deviation squared:\n",
        "data.groupby(\"segment_name\")[feature_variables].std() ** 2"
      ]
    },
    {
      "cell_type": "markdown",
      "metadata": {
        "id": "Kzp86LebACPG"
      },
      "source": [
        "## **Range**:\n",
        "Difference between min and max values\n",
        "\n",
        "$\\Delta(x) = max(x) - min(x)$ "
      ]
    },
    {
      "cell_type": "code",
      "execution_count": null,
      "metadata": {
        "colab": {
          "base_uri": "https://localhost:8080/",
          "height": 251
        },
        "id": "ISMim9NdACwZ",
        "outputId": "d0629a4f-8fac-402d-df76-6d3ae64379e9"
      },
      "outputs": [
        {
          "output_type": "execute_result",
          "data": {
            "text/plain": [
              "                      fraction_canned_food  fraction_national_brands  \\\n",
              "segment_name                                                           \n",
              "The Obnoxious Teens               0.058268                  0.049066   \n",
              "The Prepper                       0.103862                  0.040205   \n",
              "The Shopper-for-Hire              0.088172                  0.033241   \n",
              "\n",
              "                      average_revenue  average_basket_size  \n",
              "segment_name                                                \n",
              "The Obnoxious Teens        118.848203            10.495797  \n",
              "The Prepper                372.414308            29.229880  \n",
              "The Shopper-for-Hire       300.826247            20.496614  "
            ],
            "text/html": [
              "\n",
              "  <div id=\"df-2e7b591b-5447-43c6-bbc1-dae4343fd46f\">\n",
              "    <div class=\"colab-df-container\">\n",
              "      <div>\n",
              "<style scoped>\n",
              "    .dataframe tbody tr th:only-of-type {\n",
              "        vertical-align: middle;\n",
              "    }\n",
              "\n",
              "    .dataframe tbody tr th {\n",
              "        vertical-align: top;\n",
              "    }\n",
              "\n",
              "    .dataframe thead th {\n",
              "        text-align: right;\n",
              "    }\n",
              "</style>\n",
              "<table border=\"1\" class=\"dataframe\">\n",
              "  <thead>\n",
              "    <tr style=\"text-align: right;\">\n",
              "      <th></th>\n",
              "      <th>fraction_canned_food</th>\n",
              "      <th>fraction_national_brands</th>\n",
              "      <th>average_revenue</th>\n",
              "      <th>average_basket_size</th>\n",
              "    </tr>\n",
              "    <tr>\n",
              "      <th>segment_name</th>\n",
              "      <th></th>\n",
              "      <th></th>\n",
              "      <th></th>\n",
              "      <th></th>\n",
              "    </tr>\n",
              "  </thead>\n",
              "  <tbody>\n",
              "    <tr>\n",
              "      <th>The Obnoxious Teens</th>\n",
              "      <td>0.058268</td>\n",
              "      <td>0.049066</td>\n",
              "      <td>118.848203</td>\n",
              "      <td>10.495797</td>\n",
              "    </tr>\n",
              "    <tr>\n",
              "      <th>The Prepper</th>\n",
              "      <td>0.103862</td>\n",
              "      <td>0.040205</td>\n",
              "      <td>372.414308</td>\n",
              "      <td>29.229880</td>\n",
              "    </tr>\n",
              "    <tr>\n",
              "      <th>The Shopper-for-Hire</th>\n",
              "      <td>0.088172</td>\n",
              "      <td>0.033241</td>\n",
              "      <td>300.826247</td>\n",
              "      <td>20.496614</td>\n",
              "    </tr>\n",
              "  </tbody>\n",
              "</table>\n",
              "</div>\n",
              "      <button class=\"colab-df-convert\" onclick=\"convertToInteractive('df-2e7b591b-5447-43c6-bbc1-dae4343fd46f')\"\n",
              "              title=\"Convert this dataframe to an interactive table.\"\n",
              "              style=\"display:none;\">\n",
              "        \n",
              "  <svg xmlns=\"http://www.w3.org/2000/svg\" height=\"24px\"viewBox=\"0 0 24 24\"\n",
              "       width=\"24px\">\n",
              "    <path d=\"M0 0h24v24H0V0z\" fill=\"none\"/>\n",
              "    <path d=\"M18.56 5.44l.94 2.06.94-2.06 2.06-.94-2.06-.94-.94-2.06-.94 2.06-2.06.94zm-11 1L8.5 8.5l.94-2.06 2.06-.94-2.06-.94L8.5 2.5l-.94 2.06-2.06.94zm10 10l.94 2.06.94-2.06 2.06-.94-2.06-.94-.94-2.06-.94 2.06-2.06.94z\"/><path d=\"M17.41 7.96l-1.37-1.37c-.4-.4-.92-.59-1.43-.59-.52 0-1.04.2-1.43.59L10.3 9.45l-7.72 7.72c-.78.78-.78 2.05 0 2.83L4 21.41c.39.39.9.59 1.41.59.51 0 1.02-.2 1.41-.59l7.78-7.78 2.81-2.81c.8-.78.8-2.07 0-2.86zM5.41 20L4 18.59l7.72-7.72 1.47 1.35L5.41 20z\"/>\n",
              "  </svg>\n",
              "      </button>\n",
              "      \n",
              "  <style>\n",
              "    .colab-df-container {\n",
              "      display:flex;\n",
              "      flex-wrap:wrap;\n",
              "      gap: 12px;\n",
              "    }\n",
              "\n",
              "    .colab-df-convert {\n",
              "      background-color: #E8F0FE;\n",
              "      border: none;\n",
              "      border-radius: 50%;\n",
              "      cursor: pointer;\n",
              "      display: none;\n",
              "      fill: #1967D2;\n",
              "      height: 32px;\n",
              "      padding: 0 0 0 0;\n",
              "      width: 32px;\n",
              "    }\n",
              "\n",
              "    .colab-df-convert:hover {\n",
              "      background-color: #E2EBFA;\n",
              "      box-shadow: 0px 1px 2px rgba(60, 64, 67, 0.3), 0px 1px 3px 1px rgba(60, 64, 67, 0.15);\n",
              "      fill: #174EA6;\n",
              "    }\n",
              "\n",
              "    [theme=dark] .colab-df-convert {\n",
              "      background-color: #3B4455;\n",
              "      fill: #D2E3FC;\n",
              "    }\n",
              "\n",
              "    [theme=dark] .colab-df-convert:hover {\n",
              "      background-color: #434B5C;\n",
              "      box-shadow: 0px 1px 3px 1px rgba(0, 0, 0, 0.15);\n",
              "      filter: drop-shadow(0px 1px 2px rgba(0, 0, 0, 0.3));\n",
              "      fill: #FFFFFF;\n",
              "    }\n",
              "  </style>\n",
              "\n",
              "      <script>\n",
              "        const buttonEl =\n",
              "          document.querySelector('#df-2e7b591b-5447-43c6-bbc1-dae4343fd46f button.colab-df-convert');\n",
              "        buttonEl.style.display =\n",
              "          google.colab.kernel.accessAllowed ? 'block' : 'none';\n",
              "\n",
              "        async function convertToInteractive(key) {\n",
              "          const element = document.querySelector('#df-2e7b591b-5447-43c6-bbc1-dae4343fd46f');\n",
              "          const dataTable =\n",
              "            await google.colab.kernel.invokeFunction('convertToInteractive',\n",
              "                                                     [key], {});\n",
              "          if (!dataTable) return;\n",
              "\n",
              "          const docLinkHtml = 'Like what you see? Visit the ' +\n",
              "            '<a target=\"_blank\" href=https://colab.research.google.com/notebooks/data_table.ipynb>data table notebook</a>'\n",
              "            + ' to learn more about interactive tables.';\n",
              "          element.innerHTML = '';\n",
              "          dataTable['output_type'] = 'display_data';\n",
              "          await google.colab.output.renderOutput(dataTable, element);\n",
              "          const docLink = document.createElement('div');\n",
              "          docLink.innerHTML = docLinkHtml;\n",
              "          element.appendChild(docLink);\n",
              "        }\n",
              "      </script>\n",
              "    </div>\n",
              "  </div>\n",
              "  "
            ]
          },
          "metadata": {},
          "execution_count": 58
        }
      ],
      "source": [
        "# The range of the variables:\n",
        "data.groupby(\"segment_name\")[feature_variables].max() - data.groupby(\"segment_name\")[feature_variables].min()"
      ]
    },
    {
      "cell_type": "markdown",
      "source": [
        "# **Part 2: Binary Classification with k-NN**\n",
        "## **Help Dr. S to automate shopper segmentation**\n",
        "Dr. S is a marketing professor at a US business school and the proud owner of a small neighborhood grocery stores. As a marketing professor Dr. S understands the value of data, so one of the first things after opening the grocery store was launching a loyalty card app. Customers can show the app at the checkout to collect loyalty points. After collecting enough loyalty points, customers can exchange their loyalty points for product vouchers that can be used to get grocery products for free. The customers love this concept, and Dr. wants to make the loyalty program even better by offering targeted coupons. He wants to use the loyalty program data to analyze the behavior (and preferences) of his customers.\n",
        "\n",
        "With the help of the consulting firm Accidenture Dr. S created customer segments so he can recommend suitable products to customers. Dr. S. told us that working with Accidenture is pretty expensive: once every quarter he hires two consultants for 3 days (USD 3,500 per consultant per day plus travel expenses) to segment the customers.\n",
        "\n",
        "After working with Accidenture for a few months, Dr. S has collected a lot of labeled data. Instead of paying consultants a lot of money, Dr. S wants to use Machine Learning to automate the customer segmentation so he can save some money to take his family on a (very!) nice vacation. Let's look at the data, perhaps we can produce a segmentation model helps Dr. S to save some money!"
      ],
      "metadata": {
        "id": "-PayyKePJ1BK"
      }
    },
    {
      "cell_type": "markdown",
      "source": [
        "## **Types of Machine Learning (ML):**\n",
        "*  **Supervised** learning uses **labeled** data\n",
        "*  **Unsupervised** learning uses **unlabeled** data"
      ],
      "metadata": {
        "id": "J6qvEfo_LHfV"
      }
    },
    {
      "cell_type": "markdown",
      "source": [
        "### **Objective** of supervised ML:\n",
        "Automate time-consuming or expensive manual tasks.\n",
        "\n",
        "**Requires _labeled_ data:**\n",
        "*  Historical data with labels.\n",
        "*  Experiments to get labeled data.\n",
        "*  Crowd-Sourcing labeled data.\n",
        "\n",
        "**Practical Applications:**\n",
        "* Classification: should we target a (certain) consumer?\n",
        "* Regression: how much revenue can we expect from a consumer.\n",
        "\n",
        "**Usage:**\n",
        "*  Firms largely use (are _biased_ towards) classification models.\n",
        "*  The reason behind this bias towards `classification` models is that most analytical problems involve making a decision that requires a simple **Yes/No** answer.\n",
        "\n",
        "**Examples:**\n",
        "*  Will a customer churn ('leave') or not.\n",
        "*  Will a customer respond to an ad-campaign or not\n",
        "*  Will a firm default or not."
      ],
      "metadata": {
        "id": "NYuciBdqNj7a"
      }
    },
    {
      "cell_type": "markdown",
      "source": [
        "## **How k-NN (k-NearestNeighbors) works**"
      ],
      "metadata": {
        "id": "MKruGwwqPdcg"
      }
    },
    {
      "cell_type": "markdown",
      "source": [
        "### **Simple Idea:** Predict the _label_ of a \"point/observation\" to `i` by:\n",
        "*  **Finding** the `k` closest ('nearest') points to `i`.\n",
        "*  **Looking-up** the labels of the _nearest neighbors_.\n",
        "*  Taking a **majority vote**.\n",
        "\n",
        "![example image](https://lh3.googleusercontent.com/90egr1yszJf-UKxxPX1HF7icN1ioj0tLii0mCacBy-FQ-9W91TLD7Na6P0tth16RwJdWWbGrfXe3m8wq97EdEKJ5seJ0P7e5YVP-vzMIc62z63eooQ8t_mmhGtiLjxro8j_RSu8O)\n",
        "\n",
        "*  `k` is the predefined `hyperparameter`:\n",
        "    *  A `hyperparameter` is a value/parameter set before training a machine learning model that controls the behavior of the algorithm and affects the model's performance.\n",
        "    *  The algorithm depends/relies on your choice of distance metric between the points in your sample."
      ],
      "metadata": {
        "id": "Fp1FO1iUPudH"
      }
    },
    {
      "cell_type": "markdown",
      "source": [
        "### **Creating**`X` (Features) **and** `y` (Target Variable).\n",
        "\n",
        "**First**, we create two arrays for our prediction problem:\n",
        "*  The **first array** (`X`) holds the `segment` data (our independent/**explanatory variable**).\n",
        "* The **second array** (`y`) holds the variable of interest (the **dependent variable**, or variable to be explained)."
      ],
      "metadata": {
        "id": "A8eqZUJrRFEo"
      }
    },
    {
      "cell_type": "markdown",
      "source": [
        "**Lets look at the data again:**"
      ],
      "metadata": {
        "id": "4RcKZEEZRepL"
      }
    },
    {
      "cell_type": "code",
      "source": [
        "data.head()"
      ],
      "metadata": {
        "colab": {
          "base_uri": "https://localhost:8080/",
          "height": 353
        },
        "id": "By9KSIwGS1O9",
        "outputId": "9b28b96f-cb0d-4434-d3e1-25294b9aa4b3"
      },
      "execution_count": null,
      "outputs": [
        {
          "output_type": "execute_result",
          "data": {
            "text/plain": [
              "    shopper_id  average_revenue  average_basket_size  fraction_canned_food  \\\n",
              "0  shopper_000       141.817975             3.541991              0.165028   \n",
              "1  shopper_001       144.396016             3.860022              0.163544   \n",
              "2  shopper_002       130.580378             3.761713              0.149754   \n",
              "3  shopper_003       167.258689             3.555836              0.145920   \n",
              "4  shopper_004       144.925715             4.021508              0.170981   \n",
              "\n",
              "   fraction_national_brands         segment_name  is_cherry_picker  segment_id  \n",
              "0                  0.077541  The Obnoxious Teens                 0           0  \n",
              "1                  0.069220  The Obnoxious Teens                 1           0  \n",
              "2                  0.067993  The Obnoxious Teens                 0           0  \n",
              "3                  0.067840  The Obnoxious Teens                 0           0  \n",
              "4                  0.078963  The Obnoxious Teens                 0           0  "
            ],
            "text/html": [
              "\n",
              "  <div id=\"df-38e46f15-75c3-4c21-812c-9e137b1f8062\">\n",
              "    <div class=\"colab-df-container\">\n",
              "      <div>\n",
              "<style scoped>\n",
              "    .dataframe tbody tr th:only-of-type {\n",
              "        vertical-align: middle;\n",
              "    }\n",
              "\n",
              "    .dataframe tbody tr th {\n",
              "        vertical-align: top;\n",
              "    }\n",
              "\n",
              "    .dataframe thead th {\n",
              "        text-align: right;\n",
              "    }\n",
              "</style>\n",
              "<table border=\"1\" class=\"dataframe\">\n",
              "  <thead>\n",
              "    <tr style=\"text-align: right;\">\n",
              "      <th></th>\n",
              "      <th>shopper_id</th>\n",
              "      <th>average_revenue</th>\n",
              "      <th>average_basket_size</th>\n",
              "      <th>fraction_canned_food</th>\n",
              "      <th>fraction_national_brands</th>\n",
              "      <th>segment_name</th>\n",
              "      <th>is_cherry_picker</th>\n",
              "      <th>segment_id</th>\n",
              "    </tr>\n",
              "  </thead>\n",
              "  <tbody>\n",
              "    <tr>\n",
              "      <th>0</th>\n",
              "      <td>shopper_000</td>\n",
              "      <td>141.817975</td>\n",
              "      <td>3.541991</td>\n",
              "      <td>0.165028</td>\n",
              "      <td>0.077541</td>\n",
              "      <td>The Obnoxious Teens</td>\n",
              "      <td>0</td>\n",
              "      <td>0</td>\n",
              "    </tr>\n",
              "    <tr>\n",
              "      <th>1</th>\n",
              "      <td>shopper_001</td>\n",
              "      <td>144.396016</td>\n",
              "      <td>3.860022</td>\n",
              "      <td>0.163544</td>\n",
              "      <td>0.069220</td>\n",
              "      <td>The Obnoxious Teens</td>\n",
              "      <td>1</td>\n",
              "      <td>0</td>\n",
              "    </tr>\n",
              "    <tr>\n",
              "      <th>2</th>\n",
              "      <td>shopper_002</td>\n",
              "      <td>130.580378</td>\n",
              "      <td>3.761713</td>\n",
              "      <td>0.149754</td>\n",
              "      <td>0.067993</td>\n",
              "      <td>The Obnoxious Teens</td>\n",
              "      <td>0</td>\n",
              "      <td>0</td>\n",
              "    </tr>\n",
              "    <tr>\n",
              "      <th>3</th>\n",
              "      <td>shopper_003</td>\n",
              "      <td>167.258689</td>\n",
              "      <td>3.555836</td>\n",
              "      <td>0.145920</td>\n",
              "      <td>0.067840</td>\n",
              "      <td>The Obnoxious Teens</td>\n",
              "      <td>0</td>\n",
              "      <td>0</td>\n",
              "    </tr>\n",
              "    <tr>\n",
              "      <th>4</th>\n",
              "      <td>shopper_004</td>\n",
              "      <td>144.925715</td>\n",
              "      <td>4.021508</td>\n",
              "      <td>0.170981</td>\n",
              "      <td>0.078963</td>\n",
              "      <td>The Obnoxious Teens</td>\n",
              "      <td>0</td>\n",
              "      <td>0</td>\n",
              "    </tr>\n",
              "  </tbody>\n",
              "</table>\n",
              "</div>\n",
              "      <button class=\"colab-df-convert\" onclick=\"convertToInteractive('df-38e46f15-75c3-4c21-812c-9e137b1f8062')\"\n",
              "              title=\"Convert this dataframe to an interactive table.\"\n",
              "              style=\"display:none;\">\n",
              "        \n",
              "  <svg xmlns=\"http://www.w3.org/2000/svg\" height=\"24px\"viewBox=\"0 0 24 24\"\n",
              "       width=\"24px\">\n",
              "    <path d=\"M0 0h24v24H0V0z\" fill=\"none\"/>\n",
              "    <path d=\"M18.56 5.44l.94 2.06.94-2.06 2.06-.94-2.06-.94-.94-2.06-.94 2.06-2.06.94zm-11 1L8.5 8.5l.94-2.06 2.06-.94-2.06-.94L8.5 2.5l-.94 2.06-2.06.94zm10 10l.94 2.06.94-2.06 2.06-.94-2.06-.94-.94-2.06-.94 2.06-2.06.94z\"/><path d=\"M17.41 7.96l-1.37-1.37c-.4-.4-.92-.59-1.43-.59-.52 0-1.04.2-1.43.59L10.3 9.45l-7.72 7.72c-.78.78-.78 2.05 0 2.83L4 21.41c.39.39.9.59 1.41.59.51 0 1.02-.2 1.41-.59l7.78-7.78 2.81-2.81c.8-.78.8-2.07 0-2.86zM5.41 20L4 18.59l7.72-7.72 1.47 1.35L5.41 20z\"/>\n",
              "  </svg>\n",
              "      </button>\n",
              "      \n",
              "  <style>\n",
              "    .colab-df-container {\n",
              "      display:flex;\n",
              "      flex-wrap:wrap;\n",
              "      gap: 12px;\n",
              "    }\n",
              "\n",
              "    .colab-df-convert {\n",
              "      background-color: #E8F0FE;\n",
              "      border: none;\n",
              "      border-radius: 50%;\n",
              "      cursor: pointer;\n",
              "      display: none;\n",
              "      fill: #1967D2;\n",
              "      height: 32px;\n",
              "      padding: 0 0 0 0;\n",
              "      width: 32px;\n",
              "    }\n",
              "\n",
              "    .colab-df-convert:hover {\n",
              "      background-color: #E2EBFA;\n",
              "      box-shadow: 0px 1px 2px rgba(60, 64, 67, 0.3), 0px 1px 3px 1px rgba(60, 64, 67, 0.15);\n",
              "      fill: #174EA6;\n",
              "    }\n",
              "\n",
              "    [theme=dark] .colab-df-convert {\n",
              "      background-color: #3B4455;\n",
              "      fill: #D2E3FC;\n",
              "    }\n",
              "\n",
              "    [theme=dark] .colab-df-convert:hover {\n",
              "      background-color: #434B5C;\n",
              "      box-shadow: 0px 1px 3px 1px rgba(0, 0, 0, 0.15);\n",
              "      filter: drop-shadow(0px 1px 2px rgba(0, 0, 0, 0.3));\n",
              "      fill: #FFFFFF;\n",
              "    }\n",
              "  </style>\n",
              "\n",
              "      <script>\n",
              "        const buttonEl =\n",
              "          document.querySelector('#df-38e46f15-75c3-4c21-812c-9e137b1f8062 button.colab-df-convert');\n",
              "        buttonEl.style.display =\n",
              "          google.colab.kernel.accessAllowed ? 'block' : 'none';\n",
              "\n",
              "        async function convertToInteractive(key) {\n",
              "          const element = document.querySelector('#df-38e46f15-75c3-4c21-812c-9e137b1f8062');\n",
              "          const dataTable =\n",
              "            await google.colab.kernel.invokeFunction('convertToInteractive',\n",
              "                                                     [key], {});\n",
              "          if (!dataTable) return;\n",
              "\n",
              "          const docLinkHtml = 'Like what you see? Visit the ' +\n",
              "            '<a target=\"_blank\" href=https://colab.research.google.com/notebooks/data_table.ipynb>data table notebook</a>'\n",
              "            + ' to learn more about interactive tables.';\n",
              "          element.innerHTML = '';\n",
              "          dataTable['output_type'] = 'display_data';\n",
              "          await google.colab.output.renderOutput(dataTable, element);\n",
              "          const docLink = document.createElement('div');\n",
              "          docLink.innerHTML = docLinkHtml;\n",
              "          element.appendChild(docLink);\n",
              "        }\n",
              "      </script>\n",
              "    </div>\n",
              "  </div>\n",
              "  "
            ]
          },
          "metadata": {},
          "execution_count": 59
        }
      ]
    },
    {
      "cell_type": "markdown",
      "source": [
        "**1.** Construct the **dependent variable** `y` that holds the segment_id's (which we want to predict later):"
      ],
      "metadata": {
        "id": "YIQCQXP6S6Vu"
      }
    },
    {
      "cell_type": "code",
      "source": [
        "y = data[\"segment_id\"].values"
      ],
      "metadata": {
        "id": "BCC4hPenS2Vk"
      },
      "execution_count": null,
      "outputs": []
    },
    {
      "cell_type": "markdown",
      "source": [
        "**2.** Construct the **explanatory variable** `X` that holds the variables used to predict the segments (by predicting the segment_id's)."
      ],
      "metadata": {
        "id": "FIpD7LM9TRl0"
      }
    },
    {
      "cell_type": "code",
      "source": [
        "# Here we select the variables which we will use as explanatory variables.\n",
        "features = [\n",
        "    \"average_revenue\",\n",
        "    \"average_basket_size\",\n",
        "    \"fraction_canned_food\",\n",
        "    \"fraction_national_brands\",\n",
        "]\n",
        "features"
      ],
      "metadata": {
        "colab": {
          "base_uri": "https://localhost:8080/"
        },
        "id": "YbZNwtLUTIhy",
        "outputId": "255adf73-91e8-483a-bad0-736e7f413db6"
      },
      "execution_count": null,
      "outputs": [
        {
          "output_type": "execute_result",
          "data": {
            "text/plain": [
              "['average_revenue',\n",
              " 'average_basket_size',\n",
              " 'fraction_canned_food',\n",
              " 'fraction_national_brands']"
            ]
          },
          "metadata": {},
          "execution_count": 130
        }
      ]
    },
    {
      "cell_type": "code",
      "source": [
        "X = data[features].values"
      ],
      "metadata": {
        "id": "UgUR6tFyTzOP"
      },
      "execution_count": null,
      "outputs": []
    },
    {
      "cell_type": "markdown",
      "source": [
        "**Now**, lets look at the size of our **dependent** variable `y` and **explanatory** variable `X` by using the `.shape` attribute of the numpy array:"
      ],
      "metadata": {
        "id": "Afq6vbsMT4ly"
      }
    },
    {
      "cell_type": "code",
      "source": [
        "print(f\"Size of dependent variable: {y.shape}\")\n",
        "print(f\"Size of explanatory variables: {X.shape}\")"
      ],
      "metadata": {
        "colab": {
          "base_uri": "https://localhost:8080/"
        },
        "id": "lVffZ82HT2Pv",
        "outputId": "01fa22bd-a273-4636-82dc-4ac97cb262b3"
      },
      "execution_count": null,
      "outputs": [
        {
          "output_type": "stream",
          "name": "stdout",
          "text": [
            "Size of dependent variable: (450,)\n",
            "Size of explanatory variables: (450, 4)\n"
          ]
        }
      ]
    },
    {
      "cell_type": "markdown",
      "source": [
        "## **k-NN with sklearn**\n",
        "Build a model that can predict to which segment a customer belongs using K-Nearest Neighbors (k-NN)"
      ],
      "metadata": {
        "id": "rpd0QQT6WLt9"
      }
    },
    {
      "cell_type": "markdown",
      "source": [
        "## **Configurations (I): Train-Test Split**\n",
        "**Train-test split:**\n",
        "*  Common method used in machine learning to evaluate the performance of a model.\n",
        "*  Involves splitting the dataset into two seperate sets:\n",
        "    *  One split for training the model itself.\n",
        "    *  Another split for testing the model's performance on **unseen** data.\n",
        "    *  Allows the models to better generalize better to new data (prevent overfitting)."
      ],
      "metadata": {
        "id": "DZlc_YBxWXvp"
      }
    },
    {
      "cell_type": "code",
      "source": [
        "# Fraction of observations assigned to be the test set\n",
        "test_split = 0.2\n",
        "\n",
        "# Variable set to ensure reproducible random outcomes\n",
        "state = 42\n",
        "\n",
        "# Configuration of the train-test split\n",
        "config_train_test_split = {\n",
        "    \"test_size\": test_split,\n",
        "    \"random_state\": state,\n",
        "}"
      ],
      "metadata": {
        "id": "ZDKbdeDuWZBj"
      },
      "execution_count": null,
      "outputs": []
    },
    {
      "cell_type": "markdown",
      "source": [
        "## **Configurations (II): K-NN Classifier**\n",
        "**K-NN classifier configuration**:\n",
        "*  Number of **neighbors** `k`.\n",
        "*  Choice of distance metric between the points: `p`."
      ],
      "metadata": {
        "id": "JBRCfEdCjf3O"
      }
    },
    {
      "cell_type": "markdown",
      "source": [
        "**Euclidean Distance:**\n",
        "*  The Euclidean distance between two points in an n-dimensional Euclidean space is defined as the length of the shortest path between those points.\n",
        "*  Given two points `A` and `B`:\n",
        "$A(x_1, x_2, ..., x_n)$ and $B(y_1, y_2, ..., y_n)$\n",
        "\n",
        "* The *Euclidean Distance** `d` is defined as:\n",
        "$d(A,B) = \\sqrt{\\sum_{i=1}^{n}(x_i - y_i)^2}$"
      ],
      "metadata": {
        "id": "SWYGIfX1l_Uh"
      }
    },
    {
      "cell_type": "code",
      "source": [
        "# Number of neighbors (k from k-NN)\n",
        "k = 20\n",
        "\n",
        "# Distance metric between the points: euclidian\n",
        "distance_metric = 2\n",
        "\n",
        "# Configuration for K-NN\n",
        "config_knn_classifier = {\n",
        "    \"n_neighbors\": k,\n",
        "    \"p\": distance_metric,\n",
        "}\n",
        "\n",
        "config_knn_classifier"
      ],
      "metadata": {
        "colab": {
          "base_uri": "https://localhost:8080/"
        },
        "id": "YC1ofh8piPbs",
        "outputId": "a0e3571d-9820-4faa-8745-ef10bec2fa37"
      },
      "execution_count": null,
      "outputs": [
        {
          "output_type": "execute_result",
          "data": {
            "text/plain": [
              "{'n_neighbors': 20, 'p': 2}"
            ]
          },
          "metadata": {},
          "execution_count": 134
        }
      ]
    },
    {
      "cell_type": "markdown",
      "source": [
        "## **In-Sample Predictions**\n",
        "**In-Sample Predictions** are predictions made by a model on data points that were used to train the model."
      ],
      "metadata": {
        "id": "D2-2ki6knSMQ"
      }
    },
    {
      "cell_type": "code",
      "source": [
        "# Initialize the KNeighborsClassifier with given config\n",
        "knn = sklearn.neighbors.KNeighborsClassifier(**config_knn_classifier)"
      ],
      "metadata": {
        "id": "8xnv7eoVnVCw"
      },
      "execution_count": null,
      "outputs": []
    },
    {
      "cell_type": "markdown",
      "source": [
        "**Note:** the ** before the config_knn_classifier will unpack the config_knn_classifier dictionary.\n",
        "\n",
        "This will result in: ```knn = sklearn.neighbors.KNeighborsClassifier(n_neighbors=k, p=2)```\n",
        "\n",
        "Which is **equivalent** to the code below."
      ],
      "metadata": {
        "id": "dqTTAsbRoXT9"
      }
    },
    {
      "cell_type": "code",
      "source": [
        "# Fit the model\n",
        "_ = knn.fit(X, y)"
      ],
      "metadata": {
        "id": "KhzZwnnnnqe-"
      },
      "execution_count": null,
      "outputs": []
    },
    {
      "cell_type": "code",
      "source": [
        "# Lets select three shoppers from the dataset\n",
        "example_shoppers = [0, 50, 100]"
      ],
      "metadata": {
        "id": "9hqSPb14oP7f"
      },
      "execution_count": null,
      "outputs": []
    },
    {
      "cell_type": "code",
      "source": [
        "# Now, we predict the segment_id for the three selected shoppers:\n",
        "for shopper in example_shoppers:\n",
        "\n",
        "    # Get the explanatory variables corresponding to the shopper\n",
        "    features_shopper = X[shopper].reshape(1, -1)\n",
        "\n",
        "    # Make prediction for the shopper\n",
        "    prediction_sample_0 = knn.predict(features_shopper)\n",
        "\n",
        "    # Extract the (single) prediction from the array\n",
        "    prediction_0 = prediction_sample_0[0]\n",
        "\n",
        "    # Find the segment name corresponding to the segment_id\n",
        "    segment_name_0 = map_segment_id_to_name[prediction_0]\n",
        "\n",
        "    # Print the prediction\n",
        "    print(f\"Prediction for sample {shopper:03d} (id, name): {prediction_0, segment_name_0}\")"
      ],
      "metadata": {
        "colab": {
          "base_uri": "https://localhost:8080/"
        },
        "id": "-Zyw83NKqiLf",
        "outputId": "ab2e7d2e-eb14-4d9b-f7ae-a1caa90c2fff"
      },
      "execution_count": null,
      "outputs": [
        {
          "output_type": "stream",
          "name": "stdout",
          "text": [
            "Prediction for sample 000 (id, name): (0, 'The Obnoxious Teens')\n",
            "Prediction for sample 050 (id, name): (1, 'The Shopper-for-Hire')\n",
            "Prediction for sample 100 (id, name): (2, 'The Prepper')\n"
          ]
        }
      ]
    },
    {
      "cell_type": "markdown",
      "source": [
        "## **Out-Of-Sample Predictions**\n",
        "**Out-of-Sample Predictions** are predictions made by a model on data points that were **not** used to train the model (**unseen** data)."
      ],
      "metadata": {
        "id": "90AWG5lDurUr"
      }
    },
    {
      "cell_type": "code",
      "source": [
        "X_train, X_test, y_train, y_test = sklearn.model_selection.train_test_split(\n",
        "    X, y, test_size=0.2, random_state=42,\n",
        ")\n",
        "\n",
        "print(f\"Size dependent variable (train): {y_train.shape}\")\n",
        "print(f\"Size exaplanatory variables (train): {X_train.shape}\")\n",
        "\n",
        "print(f\"Size dependent variable (test): {y_test.shape}\")\n",
        "print(f\"Size exaplanatory variables (test): {X_test.shape}\")"
      ],
      "metadata": {
        "colab": {
          "base_uri": "https://localhost:8080/"
        },
        "id": "yGhkaeh7uzd8",
        "outputId": "a7b3f040-36a3-4032-ba04-15f4559ccfba"
      },
      "execution_count": null,
      "outputs": [
        {
          "output_type": "stream",
          "name": "stdout",
          "text": [
            "Size dependent variable (train): (360,)\n",
            "Size exaplanatory variables (train): (360, 4)\n",
            "Size dependent variable (test): (90,)\n",
            "Size exaplanatory variables (test): (90, 4)\n"
          ]
        }
      ]
    },
    {
      "cell_type": "markdown",
      "source": [
        "**Now** lets apply k-NN for out-of-sample predictions:"
      ],
      "metadata": {
        "id": "DWBWLk3WwkjA"
      }
    },
    {
      "cell_type": "code",
      "source": [
        "# Initialize the KNeighborsClassifier with given config\n",
        "knn = sklearn.neighbors.KNeighborsClassifier(**config_knn_classifier)\n",
        "\n",
        "# Fit the model on the train data\n",
        "_ = knn.fit(X_train, y_train)"
      ],
      "metadata": {
        "id": "QRw8SeUHwsKX"
      },
      "execution_count": null,
      "outputs": []
    },
    {
      "cell_type": "markdown",
      "source": [
        "**Next** we fit the model to the test data (to the **unseen** data)."
      ],
      "metadata": {
        "id": "Zv_iRckbw-U2"
      }
    },
    {
      "cell_type": "code",
      "source": [
        "# Run prediction on test data (unseen data)\n",
        "y_pred = knn.predict(X_test)"
      ],
      "metadata": {
        "id": "W_z8kegTw2hC"
      },
      "execution_count": null,
      "outputs": []
    },
    {
      "cell_type": "markdown",
      "source": [
        "**Finally** we check how our model did by comparing the actual values with the predictions:"
      ],
      "metadata": {
        "id": "23uvhWYTxQZM"
      }
    },
    {
      "cell_type": "code",
      "source": [
        "# Calculate the accuracy of our prediction using np.mean\n",
        "assert np.mean(y_pred == y_test) == knn.score(X_test, y_test)\n",
        "\n",
        "# Printing the accuracy with 4 decimals\n",
        "print(f\"Accuracy: {np.mean(y_pred==y_test):.4f}\")"
      ],
      "metadata": {
        "colab": {
          "base_uri": "https://localhost:8080/"
        },
        "id": "Dg3w9MJAxYgH",
        "outputId": "976c69c1-2393-4b78-9ce5-4bf1fb1aca76"
      },
      "execution_count": null,
      "outputs": [
        {
          "output_type": "stream",
          "name": "stdout",
          "text": [
            "Accuracy: 0.8556\n"
          ]
        }
      ]
    },
    {
      "cell_type": "markdown",
      "source": [
        "## **Predicting the segment of a new customer**"
      ],
      "metadata": {
        "id": "cWRZRQzkylEh"
      }
    },
    {
      "cell_type": "code",
      "source": [
        "data.head()"
      ],
      "metadata": {
        "colab": {
          "base_uri": "https://localhost:8080/",
          "height": 353
        },
        "id": "W80paWrvywsx",
        "outputId": "285a1841-4a55-43da-a1b6-10ca8e710000"
      },
      "execution_count": null,
      "outputs": [
        {
          "output_type": "execute_result",
          "data": {
            "text/plain": [
              "    shopper_id  average_revenue  average_basket_size  fraction_canned_food  \\\n",
              "0  shopper_000       141.817975             3.541991              0.165028   \n",
              "1  shopper_001       144.396016             3.860022              0.163544   \n",
              "2  shopper_002       130.580378             3.761713              0.149754   \n",
              "3  shopper_003       167.258689             3.555836              0.145920   \n",
              "4  shopper_004       144.925715             4.021508              0.170981   \n",
              "\n",
              "   fraction_national_brands         segment_name  is_cherry_picker  segment_id  \n",
              "0                  0.077541  The Obnoxious Teens                 0           0  \n",
              "1                  0.069220  The Obnoxious Teens                 1           0  \n",
              "2                  0.067993  The Obnoxious Teens                 0           0  \n",
              "3                  0.067840  The Obnoxious Teens                 0           0  \n",
              "4                  0.078963  The Obnoxious Teens                 0           0  "
            ],
            "text/html": [
              "\n",
              "  <div id=\"df-ad1f2f2f-6f7b-4102-bdce-569ae6279cd8\">\n",
              "    <div class=\"colab-df-container\">\n",
              "      <div>\n",
              "<style scoped>\n",
              "    .dataframe tbody tr th:only-of-type {\n",
              "        vertical-align: middle;\n",
              "    }\n",
              "\n",
              "    .dataframe tbody tr th {\n",
              "        vertical-align: top;\n",
              "    }\n",
              "\n",
              "    .dataframe thead th {\n",
              "        text-align: right;\n",
              "    }\n",
              "</style>\n",
              "<table border=\"1\" class=\"dataframe\">\n",
              "  <thead>\n",
              "    <tr style=\"text-align: right;\">\n",
              "      <th></th>\n",
              "      <th>shopper_id</th>\n",
              "      <th>average_revenue</th>\n",
              "      <th>average_basket_size</th>\n",
              "      <th>fraction_canned_food</th>\n",
              "      <th>fraction_national_brands</th>\n",
              "      <th>segment_name</th>\n",
              "      <th>is_cherry_picker</th>\n",
              "      <th>segment_id</th>\n",
              "    </tr>\n",
              "  </thead>\n",
              "  <tbody>\n",
              "    <tr>\n",
              "      <th>0</th>\n",
              "      <td>shopper_000</td>\n",
              "      <td>141.817975</td>\n",
              "      <td>3.541991</td>\n",
              "      <td>0.165028</td>\n",
              "      <td>0.077541</td>\n",
              "      <td>The Obnoxious Teens</td>\n",
              "      <td>0</td>\n",
              "      <td>0</td>\n",
              "    </tr>\n",
              "    <tr>\n",
              "      <th>1</th>\n",
              "      <td>shopper_001</td>\n",
              "      <td>144.396016</td>\n",
              "      <td>3.860022</td>\n",
              "      <td>0.163544</td>\n",
              "      <td>0.069220</td>\n",
              "      <td>The Obnoxious Teens</td>\n",
              "      <td>1</td>\n",
              "      <td>0</td>\n",
              "    </tr>\n",
              "    <tr>\n",
              "      <th>2</th>\n",
              "      <td>shopper_002</td>\n",
              "      <td>130.580378</td>\n",
              "      <td>3.761713</td>\n",
              "      <td>0.149754</td>\n",
              "      <td>0.067993</td>\n",
              "      <td>The Obnoxious Teens</td>\n",
              "      <td>0</td>\n",
              "      <td>0</td>\n",
              "    </tr>\n",
              "    <tr>\n",
              "      <th>3</th>\n",
              "      <td>shopper_003</td>\n",
              "      <td>167.258689</td>\n",
              "      <td>3.555836</td>\n",
              "      <td>0.145920</td>\n",
              "      <td>0.067840</td>\n",
              "      <td>The Obnoxious Teens</td>\n",
              "      <td>0</td>\n",
              "      <td>0</td>\n",
              "    </tr>\n",
              "    <tr>\n",
              "      <th>4</th>\n",
              "      <td>shopper_004</td>\n",
              "      <td>144.925715</td>\n",
              "      <td>4.021508</td>\n",
              "      <td>0.170981</td>\n",
              "      <td>0.078963</td>\n",
              "      <td>The Obnoxious Teens</td>\n",
              "      <td>0</td>\n",
              "      <td>0</td>\n",
              "    </tr>\n",
              "  </tbody>\n",
              "</table>\n",
              "</div>\n",
              "      <button class=\"colab-df-convert\" onclick=\"convertToInteractive('df-ad1f2f2f-6f7b-4102-bdce-569ae6279cd8')\"\n",
              "              title=\"Convert this dataframe to an interactive table.\"\n",
              "              style=\"display:none;\">\n",
              "        \n",
              "  <svg xmlns=\"http://www.w3.org/2000/svg\" height=\"24px\"viewBox=\"0 0 24 24\"\n",
              "       width=\"24px\">\n",
              "    <path d=\"M0 0h24v24H0V0z\" fill=\"none\"/>\n",
              "    <path d=\"M18.56 5.44l.94 2.06.94-2.06 2.06-.94-2.06-.94-.94-2.06-.94 2.06-2.06.94zm-11 1L8.5 8.5l.94-2.06 2.06-.94-2.06-.94L8.5 2.5l-.94 2.06-2.06.94zm10 10l.94 2.06.94-2.06 2.06-.94-2.06-.94-.94-2.06-.94 2.06-2.06.94z\"/><path d=\"M17.41 7.96l-1.37-1.37c-.4-.4-.92-.59-1.43-.59-.52 0-1.04.2-1.43.59L10.3 9.45l-7.72 7.72c-.78.78-.78 2.05 0 2.83L4 21.41c.39.39.9.59 1.41.59.51 0 1.02-.2 1.41-.59l7.78-7.78 2.81-2.81c.8-.78.8-2.07 0-2.86zM5.41 20L4 18.59l7.72-7.72 1.47 1.35L5.41 20z\"/>\n",
              "  </svg>\n",
              "      </button>\n",
              "      \n",
              "  <style>\n",
              "    .colab-df-container {\n",
              "      display:flex;\n",
              "      flex-wrap:wrap;\n",
              "      gap: 12px;\n",
              "    }\n",
              "\n",
              "    .colab-df-convert {\n",
              "      background-color: #E8F0FE;\n",
              "      border: none;\n",
              "      border-radius: 50%;\n",
              "      cursor: pointer;\n",
              "      display: none;\n",
              "      fill: #1967D2;\n",
              "      height: 32px;\n",
              "      padding: 0 0 0 0;\n",
              "      width: 32px;\n",
              "    }\n",
              "\n",
              "    .colab-df-convert:hover {\n",
              "      background-color: #E2EBFA;\n",
              "      box-shadow: 0px 1px 2px rgba(60, 64, 67, 0.3), 0px 1px 3px 1px rgba(60, 64, 67, 0.15);\n",
              "      fill: #174EA6;\n",
              "    }\n",
              "\n",
              "    [theme=dark] .colab-df-convert {\n",
              "      background-color: #3B4455;\n",
              "      fill: #D2E3FC;\n",
              "    }\n",
              "\n",
              "    [theme=dark] .colab-df-convert:hover {\n",
              "      background-color: #434B5C;\n",
              "      box-shadow: 0px 1px 3px 1px rgba(0, 0, 0, 0.15);\n",
              "      filter: drop-shadow(0px 1px 2px rgba(0, 0, 0, 0.3));\n",
              "      fill: #FFFFFF;\n",
              "    }\n",
              "  </style>\n",
              "\n",
              "      <script>\n",
              "        const buttonEl =\n",
              "          document.querySelector('#df-ad1f2f2f-6f7b-4102-bdce-569ae6279cd8 button.colab-df-convert');\n",
              "        buttonEl.style.display =\n",
              "          google.colab.kernel.accessAllowed ? 'block' : 'none';\n",
              "\n",
              "        async function convertToInteractive(key) {\n",
              "          const element = document.querySelector('#df-ad1f2f2f-6f7b-4102-bdce-569ae6279cd8');\n",
              "          const dataTable =\n",
              "            await google.colab.kernel.invokeFunction('convertToInteractive',\n",
              "                                                     [key], {});\n",
              "          if (!dataTable) return;\n",
              "\n",
              "          const docLinkHtml = 'Like what you see? Visit the ' +\n",
              "            '<a target=\"_blank\" href=https://colab.research.google.com/notebooks/data_table.ipynb>data table notebook</a>'\n",
              "            + ' to learn more about interactive tables.';\n",
              "          element.innerHTML = '';\n",
              "          dataTable['output_type'] = 'display_data';\n",
              "          await google.colab.output.renderOutput(dataTable, element);\n",
              "          const docLink = document.createElement('div');\n",
              "          docLink.innerHTML = docLinkHtml;\n",
              "          element.appendChild(docLink);\n",
              "        }\n",
              "      </script>\n",
              "    </div>\n",
              "  </div>\n",
              "  "
            ]
          },
          "metadata": {},
          "execution_count": 143
        }
      ]
    },
    {
      "cell_type": "code",
      "source": [
        "def predict_wrapper(customer):\n",
        "    # Step 1: Predict the segment_id for the `customer` using the 'knn' model\n",
        "    prediction = knn.predict(customer)\n",
        "\n",
        "    # Step 2: Extract the first (and only) predicted segment_id from the 'prediction' array\n",
        "    segment_id_prediction = prediction[0]\n",
        "\n",
        "    # Step 3: Map the predicted segment_id to its corresponding segment_name\n",
        "    segment_name_prediction = map_segment_id_to_name[segment_id_prediction]\n",
        "\n",
        "    # Step 4: Convert the input data point 'x' into a string representation\n",
        "    customer_string = ', '.join([str(value) for value in customer[0]])\n",
        "\n",
        "    # Step 5: Print the input data point ('new customer') and the predicted segment_name\n",
        "    print(f\"Predicted segment for sample [{customer_string}]: {segment_name_prediction}\")"
      ],
      "metadata": {
        "id": "jMf8pIS7z7Qf"
      },
      "execution_count": null,
      "outputs": []
    },
    {
      "cell_type": "markdown",
      "source": [
        "**First new Customer's values:**\n",
        "\n",
        "*  Revenue is 50 euro: `average_revenue = 50.00`.\n",
        "*  Number of items per trip is 10: `average_basket_size = 10`. \n",
        "*  Fraction canned food is 20%: `fraction_canned_food = 0.20`.\n",
        "*  Fraction national brands is 25%: `fraction_national_brands = 0.25`.\n",
        "\n",
        "\n"
      ],
      "metadata": {
        "id": "cKVn-cPfy8AU"
      }
    },
    {
      "cell_type": "code",
      "source": [
        "first_new_customer = np.array([[50, 10, 0.2, 0.25]])\n",
        "predict_wrapper(first_new_customer)"
      ],
      "metadata": {
        "colab": {
          "base_uri": "https://localhost:8080/"
        },
        "id": "PTEgAqKy2FS5",
        "outputId": "61fdd142-e10e-4d88-d74b-34779b38668c"
      },
      "execution_count": null,
      "outputs": [
        {
          "output_type": "stream",
          "name": "stdout",
          "text": [
            "Predicted segment for sample [50.0, 10.0, 0.2, 0.25]: The Obnoxious Teens\n"
          ]
        }
      ]
    },
    {
      "cell_type": "markdown",
      "source": [
        "**Second new Customer's values:**\n",
        "\n",
        "*  Revenue is 550 euro: `average_revenue = 550.00`.\n",
        "*  Number of items per trip is 30: `average_basket_size = 30`. \n",
        "*  Fraction canned food is 20%: `fraction_canned_food = 0.20`.\n",
        "*  Fraction national brands is 35%: `fraction_national_brands = 0.35`."
      ],
      "metadata": {
        "id": "xssGyCEW2Fsa"
      }
    },
    {
      "cell_type": "code",
      "source": [
        "second_new_customer = np.array([[550, 30, 0.2, 0.25]])\n",
        "predict_wrapper(second_new_customer)"
      ],
      "metadata": {
        "colab": {
          "base_uri": "https://localhost:8080/"
        },
        "id": "E-cLyRga2GR9",
        "outputId": "a8ddc608-cfc7-4eea-c287-8f9b678f9e3f"
      },
      "execution_count": null,
      "outputs": [
        {
          "output_type": "stream",
          "name": "stdout",
          "text": [
            "Predicted segment for sample [550.0, 30.0, 0.2, 0.25]: The Prepper\n"
          ]
        }
      ]
    },
    {
      "cell_type": "markdown",
      "source": [
        "## **A Minimal Pipeline**\n",
        "\n",
        "**Summarizing** the steps above into a minimal pipeline for out-of-sample predictions."
      ],
      "metadata": {
        "id": "y-B4ZIpi3CkX"
      }
    },
    {
      "cell_type": "code",
      "source": [
        "def knn_pipeline(X_train, X_test, y_train, y_test, config_knn_classifier):\n",
        "    # Training\n",
        "    knn = sklearn.neighbors.KNeighborsClassifier(**config_knn_classifier)\n",
        "    knn.fit(X_train, y_train)\n",
        "\n",
        "    # Prediction\n",
        "    y_pred = knn.predict(X_test)\n",
        "\n",
        "    # Benchmarking\n",
        "    print(f\"Accuracy: {np.mean(y_pred==y_test):.4f}\")"
      ],
      "metadata": {
        "id": "oXDacJD_2bBo"
      },
      "execution_count": null,
      "outputs": []
    },
    {
      "cell_type": "code",
      "source": [
        "knn_pipeline(X_train, X_test, y_train, y_test, config_knn_classifier)"
      ],
      "metadata": {
        "id": "NkSzd3OS3fFe",
        "outputId": "a956b322-a9c3-4306-c51c-3cd69fb0355b",
        "colab": {
          "base_uri": "https://localhost:8080/"
        }
      },
      "execution_count": null,
      "outputs": [
        {
          "output_type": "stream",
          "name": "stdout",
          "text": [
            "Accuracy: 0.8556\n"
          ]
        }
      ]
    },
    {
      "cell_type": "markdown",
      "source": [
        "## **Background:** Metrics"
      ],
      "metadata": {
        "id": "TIr6w_AI6WyO"
      }
    },
    {
      "cell_type": "markdown",
      "source": [
        "![https://raw.githubusercontent.com/Hashiraee/tutorials/main/img/confusion-multi.png](https://raw.githubusercontent.com/Hashiraee/tutorials/main/img/confusion-multi.png)\n"
      ],
      "metadata": {
        "id": "M0T_6AAX5yKT"
      }
    },
    {
      "cell_type": "markdown",
      "source": [
        "**Hence**, we can define the accuracy metric:\n",
        "\n",
        "\n",
        "$ACCURACY = \\frac{\\sum_{i = 1}^{N} Positives}{N}$"
      ],
      "metadata": {
        "id": "NGakMilx6T-g"
      }
    },
    {
      "cell_type": "markdown",
      "source": [
        "## **Scaling Variables**"
      ],
      "metadata": {
        "id": "xznvGtTU7_QG"
      }
    },
    {
      "cell_type": "markdown",
      "source": [
        "### **Scaling Variables (I):** Min-Max Scaling"
      ],
      "metadata": {
        "id": "PwMVIH9h8eoU"
      }
    },
    {
      "cell_type": "code",
      "source": [
        "# Min-Max scaling the data between 0 and 1\n",
        "X_scaled_01 = sklearn.preprocessing.minmax_scale(X_train, feature_range=(0, 1))"
      ],
      "metadata": {
        "colab": {
          "base_uri": "https://localhost:8080/"
        },
        "id": "cK88WgmO8IJs",
        "outputId": "a5b18e50-3a22-49ff-9a17-18b780b9f2b0"
      },
      "execution_count": 156,
      "outputs": [
        {
          "output_type": "execute_result",
          "data": {
            "text/plain": [
              "(array([0.41942853, 0.40183918, 0.4357363 , 0.46995449]),\n",
              " array([0.27789171, 0.28504487, 0.2268482 , 0.18553341]))"
            ]
          },
          "metadata": {},
          "execution_count": 156
        }
      ]
    },
    {
      "cell_type": "markdown",
      "source": [
        "**Mean** of the feature columns after scaling."
      ],
      "metadata": {
        "id": "X970WUSB9UmO"
      }
    },
    {
      "cell_type": "code",
      "source": [
        "X_scaled_01.mean(axis=0)"
      ],
      "metadata": {
        "id": "ShlnS1mC9Q1B"
      },
      "execution_count": null,
      "outputs": []
    },
    {
      "cell_type": "markdown",
      "source": [
        "**Standard Deviation** of the feature columns after scaling."
      ],
      "metadata": {
        "id": "P_U8NmyJ9aYC"
      }
    },
    {
      "cell_type": "code",
      "source": [
        "X_scaled_01.std(axis=0)"
      ],
      "metadata": {
        "id": "rmRuSGOM9SeS"
      },
      "execution_count": null,
      "outputs": []
    },
    {
      "cell_type": "markdown",
      "source": [
        "**Minimum** and **Maximum** after min-max scaling"
      ],
      "metadata": {
        "id": "v_b-BmZ-9-tT"
      }
    },
    {
      "cell_type": "code",
      "source": [
        "X_scaled_01.min(axis=0)\n",
        "X_scaled_01.max(axis=0)"
      ],
      "metadata": {
        "colab": {
          "base_uri": "https://localhost:8080/"
        },
        "id": "SIUt3gJR82WR",
        "outputId": "eeca47da-3ac2-4e7c-9b3c-18b3cc6a745c"
      },
      "execution_count": 158,
      "outputs": [
        {
          "output_type": "execute_result",
          "data": {
            "text/plain": [
              "array([1., 1., 1., 1.])"
            ]
          },
          "metadata": {},
          "execution_count": 158
        }
      ]
    },
    {
      "cell_type": "markdown",
      "source": [
        "### **Scaling Variables (II):** Z-score normalization (standardization)\n",
        "\n",
        "Here, one transforms a variable/feature $x_i$ to have a mean of 0 and a standard deviation of 1:\n",
        "\n",
        "$z_i = \\frac{x_i - \\bar{x}}{s}$\n",
        "\n",
        "Where:\n",
        "*  Z-score normalized sample observation $z_i$.\n",
        "*  Original sample value $x_i$.\n",
        "*  Mean of the sample $\\bar{x}$.\n",
        "*  Sample standard deviation $s$."
      ],
      "metadata": {
        "id": "8FY_Izzo-MIO"
      }
    },
    {
      "cell_type": "code",
      "source": [
        "# Applying the z-score normilazation scaling\n",
        "X_scaled = sklearn.preprocessing.scale(X_train, with_mean=True, with_std=True)"
      ],
      "metadata": {
        "id": "NWOyidW59LYD"
      },
      "execution_count": 164,
      "outputs": []
    },
    {
      "cell_type": "markdown",
      "source": [
        "**Mean** of the feature columns after scaling."
      ],
      "metadata": {
        "id": "TmVlf765_gQ-"
      }
    },
    {
      "cell_type": "code",
      "source": [
        "X_scaled.mean(axis=0)"
      ],
      "metadata": {
        "colab": {
          "base_uri": "https://localhost:8080/"
        },
        "id": "GAONrBHC_g0o",
        "outputId": "7ad6ac98-a335-44b4-8b99-096ce31310b3"
      },
      "execution_count": 159,
      "outputs": [
        {
          "output_type": "execute_result",
          "data": {
            "text/plain": [
              "array([0., 0., 0.])"
            ]
          },
          "metadata": {},
          "execution_count": 159
        }
      ]
    },
    {
      "cell_type": "markdown",
      "source": [
        "**Standard Deviation** of the feature columns after scaling."
      ],
      "metadata": {
        "id": "jewsgBhp_llm"
      }
    },
    {
      "cell_type": "code",
      "source": [
        "X_scaled.std(axis=0)"
      ],
      "metadata": {
        "colab": {
          "base_uri": "https://localhost:8080/"
        },
        "id": "9sAvbCet_i0U",
        "outputId": "c7b94893-ac0e-46a7-f98d-56854de860e1"
      },
      "execution_count": 165,
      "outputs": [
        {
          "output_type": "execute_result",
          "data": {
            "text/plain": [
              "array([1., 1., 1., 1.])"
            ]
          },
          "metadata": {},
          "execution_count": 165
        }
      ]
    },
    {
      "cell_type": "markdown",
      "source": [
        "## **Plotting and Comparing**:\n",
        "The z-score scaled data, the min-max scaled data and the original data."
      ],
      "metadata": {
        "id": "nH8dj77_ADXu"
      }
    },
    {
      "cell_type": "code",
      "source": [
        "warnings.simplefilter(action=\"ignore\", category=FutureWarning)\n",
        "\n",
        "# Let's confirm that the distributions' shapes are unchanged\n",
        "# Plot both together to compare\n",
        "fig, ax = plt.subplots(nrows=4, ncols=3, figsize=(20, 16))\n",
        "\n",
        "ax[0, 0].set_title(\"Z-Score Scaled Data\", fontsize=20)\n",
        "ax[0, 1].set_title(\"Min-Max Scaled Data\", fontsize=20)\n",
        "ax[0, 2].set_title(\"Original Data\", fontsize=20)\n",
        "\n",
        "for i in [0, 1, 2, 3]:\n",
        "    sns.histplot(X_scaled[:, i], ax=ax[i, 0], color=my_colors[0])\n",
        "    sns.histplot(X_scaled_01[:, i], ax=ax[i, 1], color=my_colors[1])\n",
        "    sns.histplot(X[:, i], ax=ax[i, 2], color=my_colors[2])\n",
        "\n",
        "plt.show()\n",
        "\n",
        "# Technical Note: that the y-axis in a density plot is the probability density function"
      ],
      "metadata": {
        "colab": {
          "base_uri": "https://localhost:8080/",
          "height": 703
        },
        "id": "ehRpbvZVASol",
        "outputId": "edeb7a9b-cf59-4bcf-d806-19648fe62a80"
      },
      "execution_count": 169,
      "outputs": [
        {
          "output_type": "display_data",
          "data": {
            "text/plain": [
              "<Figure size 2000x1600 with 12 Axes>"
            ],
            "image/png": "[encoded data removed]"
          },
          "metadata": {}
        }
      ]
    },
    {
      "cell_type": "markdown",
      "source": [
        "### **Applying K-NN again after scaling**"
      ],
      "metadata": {
        "id": "OXUA4JliBm5b"
      }
    },
    {
      "cell_type": "code",
      "source": [
        "knn_pipeline(X_scaled, X_test, y_train, y_test, config_knn_classifier)"
      ],
      "metadata": {
        "colab": {
          "base_uri": "https://localhost:8080/"
        },
        "id": "YwyvWRlfAWbM",
        "outputId": "ba69c13a-ae2f-4967-b223-cd239949bba2"
      },
      "execution_count": 168,
      "outputs": [
        {
          "output_type": "stream",
          "name": "stdout",
          "text": [
            "Accuracy: 0.3222\n"
          ]
        }
      ]
    },
    {
      "cell_type": "markdown",
      "source": [
        "### **What happened?**\n",
        "\n",
        "**Compared** to the previous accuracy of 0.86, this is much worse...\n",
        "\n",
        "**Reason:** we did not scale the test data, so the model used scaled data for training and unscaled data for testing...\n",
        "\n",
        "**Does the following approach fix it?**"
      ],
      "metadata": {
        "id": "upMblJTlBwB1"
      }
    },
    {
      "cell_type": "code",
      "source": [
        "X_train_scaled = sklearn.preprocessing.scale(X_train, with_mean=True, with_std=True)\n",
        "X_test_scaled = sklearn.preprocessing.scale(X_test, with_mean=True, with_std=True)\n",
        "\n",
        "X_train_scaled.mean(), X_test_scaled.mean(), X_train_scaled.std(), X_test_scaled.std()"
      ],
      "metadata": {
        "colab": {
          "base_uri": "https://localhost:8080/"
        },
        "id": "wB3odzdzBOv4",
        "outputId": "de13ff25-56d4-4750-f21e-45398282ec34"
      },
      "execution_count": 171,
      "outputs": [
        {
          "output_type": "execute_result",
          "data": {
            "text/plain": [
              "(1.852838869985539e-15, -1.164500594717942e-15, 1.0, 1.0)"
            ]
          },
          "metadata": {},
          "execution_count": 171
        }
      ]
    },
    {
      "cell_type": "markdown",
      "source": [
        "### **Applying KNN again after also scaling the testing data**"
      ],
      "metadata": {
        "id": "nD63G8QRDIdE"
      }
    },
    {
      "cell_type": "code",
      "source": [
        "knn_pipeline(X_train_scaled, X_test_scaled, y_train, y_test, config_knn_classifier)"
      ],
      "metadata": {
        "colab": {
          "base_uri": "https://localhost:8080/"
        },
        "id": "DFkthczNDN8-",
        "outputId": "16491811-a718-4057-d547-7f46cd7dc368"
      },
      "execution_count": 172,
      "outputs": [
        {
          "output_type": "stream",
          "name": "stdout",
          "text": [
            "Accuracy: 0.9667\n"
          ]
        }
      ]
    },
    {
      "cell_type": "markdown",
      "source": [
        "### **Accuracy seems fine, it this correct?**\n",
        "\n",
        "**No**, lets look at the mean and standard deviation of both the train and test data after scaling them seperately:\n",
        "\n",
        "**Note**: the mean should be **zero** and the standard deviation should be **one**..."
      ],
      "metadata": {
        "id": "yYWQ-6_mDouD"
      }
    },
    {
      "cell_type": "code",
      "source": [
        "# For the train data:\n",
        "print(X_train.mean(axis=0))\n",
        "print(X_train.std(axis=0))"
      ],
      "metadata": {
        "colab": {
          "base_uri": "https://localhost:8080/"
        },
        "id": "IzGqXlqjDQyn",
        "outputId": "16568205-6f36-4ae6-c943-18aa30dbc685"
      },
      "execution_count": 175,
      "outputs": [
        {
          "output_type": "stream",
          "name": "stdout",
          "text": [
            "[3.75384068e+02 2.35743745e+01 1.93790644e-01 6.79821911e-02]\n",
            "[1.84019405e+02 1.54674532e+01 2.86372926e-02 9.67504194e-03]\n"
          ]
        }
      ]
    },
    {
      "cell_type": "code",
      "source": [
        "# For the test data:\n",
        "print(X_train.mean(axis=0))\n",
        "print(X_train.std(axis=0))"
      ],
      "metadata": {
        "colab": {
          "base_uri": "https://localhost:8080/"
        },
        "id": "ifD2TtA8EBZF",
        "outputId": "e053b7b1-e753-4233-d14c-e427923da785"
      },
      "execution_count": 176,
      "outputs": [
        {
          "output_type": "stream",
          "name": "stdout",
          "text": [
            "[3.75384068e+02 2.35743745e+01 1.93790644e-01 6.79821911e-02]\n",
            "[1.84019405e+02 1.54674532e+01 2.86372926e-02 9.67504194e-03]\n"
          ]
        }
      ]
    },
    {
      "cell_type": "markdown",
      "source": [
        "### **Now we do it the right way:**\n",
        "\n",
        "**Note:** Now the scaled data **will** have a mean of zero and standard deviation of one."
      ],
      "metadata": {
        "id": "xhRWEBS8EjRu"
      }
    },
    {
      "cell_type": "code",
      "source": [
        "# Initializing the scaler Scaling using the z-score normalization:\n",
        "scaler_mean_std = sklearn.preprocessing.StandardScaler(with_mean=True, with_std=True)"
      ],
      "metadata": {
        "id": "ou6uvUIqEcb_"
      },
      "execution_count": 178,
      "outputs": []
    },
    {
      "cell_type": "markdown",
      "source": [
        "**Now** the z-score normalization scaling via the StandardScaler is fit on the train data:"
      ],
      "metadata": {
        "id": "5DSADduAFser"
      }
    },
    {
      "cell_type": "code",
      "source": [
        "# Fitting using the train data (not on all data to enssure there is no risk of data leakage)\n",
        "_ = scaler_mean_std.fit(X_train)"
      ],
      "metadata": {
        "id": "M7SWKUPYGDJ7"
      },
      "execution_count": 179,
      "outputs": []
    },
    {
      "cell_type": "markdown",
      "source": [
        "**Using** the constructed scaler, lets now scale the **train** data:"
      ],
      "metadata": {
        "id": "z74IhQC8GVgo"
      }
    },
    {
      "cell_type": "code",
      "source": [
        "X_train_scaled = scaler_mean_std.transform(X_train)"
      ],
      "metadata": {
        "id": "GHuq13DfGQOg"
      },
      "execution_count": 180,
      "outputs": []
    },
    {
      "cell_type": "markdown",
      "source": [
        "**Checking** the mean and standard deviation of the scaled **train data**:"
      ],
      "metadata": {
        "id": "ZTquQuCYGbkc"
      }
    },
    {
      "cell_type": "code",
      "source": [
        "print(X_train_scaled.mean(axis=0))\n",
        "print(X_train_scaled.std(axis=0))"
      ],
      "metadata": {
        "colab": {
          "base_uri": "https://localhost:8080/"
        },
        "id": "3yQCeEpzGjST",
        "outputId": "b413c9e5-17d4-4a97-eade-ec4c254bdb1d"
      },
      "execution_count": 181,
      "outputs": [
        {
          "output_type": "stream",
          "name": "stdout",
          "text": [
            "[-4.23118330e-16 -7.52484494e-16  9.54298369e-15 -9.55774811e-16]\n",
            "[1. 1. 1. 1.]\n"
          ]
        }
      ]
    },
    {
      "cell_type": "markdown",
      "source": [
        "**Now**, using the constructed scaler, lets now scale the **test** data:"
      ],
      "metadata": {
        "id": "VZ3Zp125G9E5"
      }
    },
    {
      "cell_type": "code",
      "source": [
        "X_test_scaled = scaler_mean_std.transform(X_test)"
      ],
      "metadata": {
        "id": "mpwOFNUdG8kf"
      },
      "execution_count": 182,
      "outputs": []
    },
    {
      "cell_type": "markdown",
      "source": [
        "**Checking** the mean and standard deviation of the scaled **test data**:\n",
        "\n",
        "**Note:** we did only fit the scaler on the train data...\n",
        "\n",
        "**Indeed** we now find a mean of zero and a standard deviation of one!"
      ],
      "metadata": {
        "id": "5p3H3xJ2Grrd"
      }
    },
    {
      "cell_type": "code",
      "source": [
        "print(X_test_scaled.mean(axis=0))\n",
        "print(X_test_scaled.std(axis=0))"
      ],
      "metadata": {
        "colab": {
          "base_uri": "https://localhost:8080/"
        },
        "id": "qSKvRC7pG5Hb",
        "outputId": "84c93551-a901-4608-ba22-98e6b8072aa3"
      },
      "execution_count": 183,
      "outputs": [
        {
          "output_type": "stream",
          "name": "stdout",
          "text": [
            "[ 0.08369465  0.10030659  0.12150756 -0.05222762]\n",
            "[0.93914298 0.97130405 0.92379121 1.04877886]\n"
          ]
        }
      ]
    },
    {
      "cell_type": "markdown",
      "source": [
        "### **Applying KNN again after scaling the data correctly:**"
      ],
      "metadata": {
        "id": "xDPjrq0THjPL"
      }
    },
    {
      "cell_type": "code",
      "source": [
        "knn_pipeline(X_train_scaled, X_test_scaled, y_train, y_test, config_knn_classifier)"
      ],
      "metadata": {
        "colab": {
          "base_uri": "https://localhost:8080/"
        },
        "id": "3V0AVYPoHmaM",
        "outputId": "1e3450af-230c-4ed7-bc87-175fe2e29847"
      },
      "execution_count": 184,
      "outputs": [
        {
          "output_type": "stream",
          "name": "stdout",
          "text": [
            "Accuracy: 0.9444\n"
          ]
        }
      ]
    },
    {
      "cell_type": "markdown",
      "source": [
        "## **Improving the Predictions**\n",
        "**There** are a few things we can easily change:\n",
        "*  The input data\n",
        "*  The way we split our data intro train and test splits\n",
        "*  The distribution of segments (labels) within the train and test samples\n",
        "*  The value for k (k-NN)."
      ],
      "metadata": {
        "id": "G1d5nQpZHxrc"
      }
    },
    {
      "cell_type": "markdown",
      "source": [
        "### **Tuning** hyperparameters\n",
        "\n",
        "**Changing** `k` leads to different results so what is the _\"right\"_ value for `k`?\n",
        "\n",
        "**Let's** make the impact of setting k to different values visible by visualizing it:\n",
        "\n",
        "*  Showing boundaries of each class (i.e. segment) in a graph.\n",
        "*  These \"Decision Boundaries\" seperate our three `segments` from another."
      ],
      "metadata": {
        "id": "2J4askH2IREq"
      }
    },
    {
      "cell_type": "markdown",
      "source": [
        "### **Visualizing Decision Boundaries**"
      ],
      "metadata": {
        "id": "WNpEyg2tI_3a"
      }
    },
    {
      "cell_type": "code",
      "source": [
        "# Select the second and first columns of the training data (zero-indexed) as features\n",
        "X2 = X_train_scaled[:, [2, 1]]\n",
        "\n",
        "# Set the target labels\n",
        "y2 = y_train\n",
        "\n",
        "# Define the step size for creating the mesh grid\n",
        "h = 0.01\n",
        "\n",
        "# cmap_light is used for the decision boundary background\n",
        "cmap_light = matplotlib.colors.ListedColormap([\"#FFAAAA\", \"#AAFFAA\", \"#AAAAFF\"])\n",
        "# cmap_bold is used for the training points\n",
        "cmap_bold = matplotlib.colors.ListedColormap([\"#FF0000\", \"#00FF00\", \"#0000FF\"])\n",
        "\n",
        "# Iterate over different values of k (number of neighbors) for the k-Nearest Neighbors classifier\n",
        "for k in tqdm.tqdm([1, 2, 4, 8, 16, 32]):\n",
        "    # Create an instance of the KNeighborsClassifier with the current value of k\n",
        "    clf = sklearn.neighbors.KNeighborsClassifier(n_neighbors=k)\n",
        "    # Fit the classifier to the training data\n",
        "    clf.fit(X2, y2)\n",
        "\n",
        "    # Determine the bounds of the plot by finding the minimum and maximum values of the features\n",
        "    x_min, x_max = X2[:, 0].min() - 0.1, X2[:, 0].max() + 0.1\n",
        "    y_min, y_max = X2[:, 1].min() - 0.1, X2[:, 1].max() + 0.1\n",
        "\n",
        "    # Create a mesh grid using the bounds and the step size\n",
        "    xx, yy = np.meshgrid(np.arange(x_min, x_max, h), np.arange(y_min, y_max, h))\n",
        "\n",
        "    # Make predictions using the classifier for each point in the mesh grid\n",
        "    Z = clf.predict(np.c_[xx.ravel(), yy.ravel()])\n",
        "\n",
        "    # Reshape the predictions to match the shape of the mesh grid\n",
        "    Z = Z.reshape(xx.shape)\n",
        "\n",
        "    # Create a new figure with a specified size\n",
        "    plt.figure(figsize=(10, 5))\n",
        "\n",
        "    # Plot the decision boundary using the predictions and cmap_light colormap\n",
        "    plt.pcolormesh(xx, yy, Z, cmap=cmap_light)\n",
        "\n",
        "    # Plot the training points using the cmap_bold colormap\n",
        "    plt.scatter(X2[:, 0], X2[:, 1], c=y_train, cmap=cmap_bold)\n",
        "\n",
        "    # Set the limits of the plot to match the mesh grid\n",
        "    plt.xlim(xx.min(), xx.max())\n",
        "    plt.ylim(yy.min(), yy.max())\n",
        "\n",
        "    # Set the title of the plot, indicating the current value of k\n",
        "    plt.title(\"3-Class classification (k = %i)\" % (k), fontsize=20)\n",
        "\n",
        "# Display the generated plots\n",
        "plt.show()"
      ],
      "metadata": {
        "colab": {
          "base_uri": "https://localhost:8080/",
          "height": 1000
        },
        "id": "0EfUlBexHwz-",
        "outputId": "754c8386-e068-47d4-c1a9-cf120d63dd9b"
      },
      "execution_count": 185,
      "outputs": [
        {
          "output_type": "stream",
          "name": "stderr",
          "text": [
            "100%|██████████| 6/6 [00:22<00:00,  3.67s/it]\n"
          ]
        },
        {
          "output_type": "display_data",
          "data": {
            "text/plain": [
              "<Figure size 1000x500 with 1 Axes>"
            ],
            "image/png": "[encoded data removed]"
          },
          "metadata": {}
        },
        {
          "output_type": "display_data",
          "data": {
            "text/plain": [
              "<Figure size 1000x500 with 1 Axes>"
            ],
            "image/png": "[encoded data removed]"
          },
          "metadata": {}
        },
        {
          "output_type": "display_data",
          "data": {
            "text/plain": [
              "<Figure size 1000x500 with 1 Axes>"
            ],
            "image/png": "[encoded data removed]"
          },
          "metadata": {}
        },
        {
          "output_type": "display_data",
          "data": {
            "text/plain": [
              "<Figure size 1000x500 with 1 Axes>"
            ],
            "image/png": "[encoded data removed]"
          },
          "metadata": {}
        },
        {
          "output_type": "display_data",
          "data": {
            "text/plain": [
              "<Figure size 1000x500 with 1 Axes>"
            ],
            "image/png": "[encoded data removed]"
          },
          "metadata": {}
        },
        {
          "output_type": "display_data",
          "data": {
            "text/plain": [
              "<Figure size 1000x500 with 1 Axes>"
            ],
            "image/png": "[encoded data removed]"
          },
          "metadata": {}
        }
      ]
    },
    {
      "cell_type": "markdown",
      "source": [
        "### **What do you observe?**\n",
        "*  As `k` gets larger, the boundaries become 'smoother'.\n",
        "*  As `k` approaches the number of customers, the whole graph will take on a single color. "
      ],
      "metadata": {
        "id": "pDTV48LFKGIk"
      }
    },
    {
      "cell_type": "markdown",
      "source": [
        "### **Model Complexity:**\n",
        "*  Larger k => smoother decision boundary => **less complex model**\n",
        "*  Smaller k => more complex model => can lead to **overfitting**\n",
        "\n",
        "=> **Evaluate scores on hould-out data when varying** `k`."
      ],
      "metadata": {
        "id": "A8Oa3xdBKY82"
      }
    },
    {
      "cell_type": "markdown",
      "source": [
        "## **Optimization: Grid Search**\n",
        "\n",
        "Let's optimize by applying a grid search over `k`:"
      ],
      "metadata": {
        "id": "lHrwL4JsK1Yd"
      }
    },
    {
      "cell_type": "code",
      "source": [
        "def knn_pipeline(X_train, X_val, y_train, y_val, config_knn_classifier):\n",
        "    knn = sklearn.neighbors.KNeighborsClassifier(**config_knn_classifier)\n",
        "    knn.fit(X_train, y_train)\n",
        "    y_pred_train = knn.predict(X_train)\n",
        "    y_pred_val = knn.predict(X_val)\n",
        "    return np.mean(y_pred_train == y_train), np.mean(y_pred_val == y_val)"
      ],
      "metadata": {
        "id": "lGA4IXPrK5tJ"
      },
      "execution_count": 186,
      "outputs": []
    },
    {
      "cell_type": "code",
      "source": [
        "X_train, X_val, y_train, y_val = sklearn.model_selection.train_test_split(\n",
        "    X, y, test_size = 0.2, random_state=42\n",
        ")"
      ],
      "metadata": {
        "id": "pZQA__noLFSX"
      },
      "execution_count": 193,
      "outputs": []
    },
    {
      "cell_type": "code",
      "source": [
        "knn_pipeline_data = functools.partial(knn_pipeline, X_train, X_val, y_train, y_val)"
      ],
      "metadata": {
        "id": "zSW0lQWBLF8j"
      },
      "execution_count": 194,
      "outputs": []
    },
    {
      "cell_type": "code",
      "source": [
        "# setup arrays to store train and validation accuracies\n",
        "neighbors = np.arange(1, 25)\n",
        "train_accuracy = np.empty(len(neighbors))\n",
        "val_accuracy = np.empty(len(neighbors))\n",
        "\n",
        "# Loop over different values of k\n",
        "for i, k in enumerate(neighbors):\n",
        "    config_knn_classifier_i = config_knn_classifier.copy()\n",
        "    config_knn_classifier_i[\"n_neighbors\"] = k\n",
        "    train_accuracy[i], val_accuracy[i] = knn_pipeline_data(config_knn_classifier_i)\n",
        "\n",
        "# Generate plot\n",
        "plt.plot(neighbors, val_accuracy, linewidth=2, label=\"Validation Accuracy\")\n",
        "plt.plot(neighbors, train_accuracy, linewidth=2, label=\"Training Accuracy\")\n",
        "plt.legend()\n",
        "plt.xlabel(\"Number of Neighbors\")\n",
        "plt.ylabel(\"Accuracy\")\n",
        "plt.title(\"k-NN: Varying Number of Neighbors\")\n",
        "plt.show()"
      ],
      "metadata": {
        "colab": {
          "base_uri": "https://localhost:8080/",
          "height": 725
        },
        "id": "ExHggUz4LIuu",
        "outputId": "ee95835c-09bd-40fa-cca8-e2a7d14fb7d8"
      },
      "execution_count": 195,
      "outputs": [
        {
          "output_type": "display_data",
          "data": {
            "text/plain": [
              "<Figure size 1000x800 with 1 Axes>"
            ],
            "image/png": "[encoded data removed]"
          },
          "metadata": {}
        }
      ]
    },
    {
      "cell_type": "markdown",
      "source": [
        "## **Note**: Trade off between in-sample fit and out-of-sample accuracy"
      ],
      "metadata": {
        "id": "KyLXCE09Lbpc"
      }
    }
  ],
  "metadata": {
    "colab": {
      "provenance": [],
      "gpuType": "T4",
      "include_colab_link": true
    },
    "kernelspec": {
      "display_name": "Python 3 (ipykernel)",
      "language": "python",
      "name": "python3"
    },
    "language_info": {
      "codemirror_mode": {
        "name": "ipython",
        "version": 3
      },
      "file_extension": ".py",
      "mimetype": "text/x-python",
      "name": "python",
      "nbconvert_exporter": "python",
      "pygments_lexer": "ipython3",
      "version": "3.11.2"
    },
    "gpuClass": "standard"
  },
  "nbformat": 4,
  "nbformat_minor": 0
}